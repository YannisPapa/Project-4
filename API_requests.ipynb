{
 "cells": [
  {
   "cell_type": "code",
   "execution_count": 1,
   "metadata": {},
   "outputs": [],
   "source": [
    "import requests\n",
    "\n",
    "from config import youtube_key"
   ]
  },
  {
   "cell_type": "code",
   "execution_count": null,
   "metadata": {},
   "outputs": [],
   "source": [
    "\n",
    "\n",
    "# API_KEY = 'YOUR_API_KEY'\n",
    "CATEGORY_ID = '28'  # DIY category\n",
    "START_DATE = '2024-01-01T00:00:00Z'\n",
    "END_DATE = '2024-12-31T23:59:59Z'\n",
    "BASE_URL = 'https://www.googleapis.com/youtube/v3/search'\n",
    "\n"
   ]
  },
  {
   "cell_type": "code",
   "execution_count": null,
   "metadata": {},
   "outputs": [],
   "source": [
    "\n",
    "\n",
    "def get_video_ids(api_key, category_id, start_date, end_date):\n",
    "    video_ids = []\n",
    "    url = f\"{BASE_URL}?part=snippet&publishedAfter={start_date}&publishedBefore={end_date}&videoCategoryId={category_id}&type=video&key={youtube_key}\"\n",
    "\n",
    "    while url:\n",
    "        response = requests.get(url)\n",
    "        data = response.json()\n",
    "\n",
    "        for item in data.get('items', []):\n",
    "            video_ids.append(item['id']['videoId'])\n",
    "\n",
    "        # Check for the next page\n",
    "        url = data.get('nextPageToken')\n",
    "        if url:\n",
    "            url = f\"{BASE_URL}?part=snippet&publishedAfter={start_date}&publishedBefore={end_date}&videoCategoryId={category_id}&type=video&pageToken={url}&key={api_key}\"\n",
    "\n",
    "    return video_ids\n",
    "\n",
    "video_ids = get_video_ids(API_KEY, CATEGORY_ID, START_DATE, END_DATE)\n",
    "print(video_ids)\n"
   ]
  }
 ],
 "metadata": {
  "kernelspec": {
   "display_name": "dev",
   "language": "python",
   "name": "python3"
  },
  "language_info": {
   "codemirror_mode": {
    "name": "ipython",
    "version": 3
   },
   "file_extension": ".py",
   "mimetype": "text/x-python",
   "name": "python",
   "nbconvert_exporter": "python",
   "pygments_lexer": "ipython3",
   "version": "3.10.14"
  }
 },
 "nbformat": 4,
 "nbformat_minor": 2
}
