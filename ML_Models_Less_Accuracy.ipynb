{
 "cells": [
  {
   "cell_type": "markdown",
   "metadata": {},
   "source": [
    "# Import Libraries and CSV Data\n",
    "##### Debugging or Troubleshooting Code in this notebook was helped by OpenAI's ChatGPT (January 2025)"
   ]
  },
  {
   "cell_type": "markdown",
   "metadata": {},
   "source": [
    "#### This notebook uses mostly text data and excludes some channel and video specific data\n",
    "##### If we manage to improve accuravy this would be the ideal data to use\n",
    "- Excluded Data\n",
    "\n",
    "    - `v_favorites`,`v_privacy_status`,`c_channel_id`,`v_video_id`,`c_channel_upload_playlist`,\n",
    "    \n",
    "    - `c_channel_subCount`,`c_channel_videoCount`,`c_channel_viewCount`,`v_likes`,`v_comment_count`"
   ]
  },
  {
   "cell_type": "code",
   "execution_count": 1,
   "metadata": {},
   "outputs": [
    {
     "data": {
      "text/html": [
       "<div>\n",
       "<style scoped>\n",
       "    .dataframe tbody tr th:only-of-type {\n",
       "        vertical-align: middle;\n",
       "    }\n",
       "\n",
       "    .dataframe tbody tr th {\n",
       "        vertical-align: top;\n",
       "    }\n",
       "\n",
       "    .dataframe thead th {\n",
       "        text-align: right;\n",
       "    }\n",
       "</style>\n",
       "<table border=\"1\" class=\"dataframe\">\n",
       "  <thead>\n",
       "    <tr style=\"text-align: right;\">\n",
       "      <th></th>\n",
       "      <th>c_channel_id</th>\n",
       "      <th>v_video_id</th>\n",
       "      <th>v_date_publishedAt</th>\n",
       "      <th>v_time_publishedAt</th>\n",
       "      <th>c_channel_title</th>\n",
       "      <th>c_channel_upload_playlist</th>\n",
       "      <th>c_channel_subCount</th>\n",
       "      <th>c_channel_videoCount</th>\n",
       "      <th>c_channel_viewCount</th>\n",
       "      <th>v_category_id</th>\n",
       "      <th>...</th>\n",
       "      <th>v_comment_count</th>\n",
       "      <th>v_likes</th>\n",
       "      <th>v_favorites</th>\n",
       "      <th>v_views</th>\n",
       "      <th>v_definition</th>\n",
       "      <th>v_duration</th>\n",
       "      <th>v_caption</th>\n",
       "      <th>v_age_restricted</th>\n",
       "      <th>v_privacy_status</th>\n",
       "      <th>v_made_for_kids</th>\n",
       "    </tr>\n",
       "  </thead>\n",
       "  <tbody>\n",
       "    <tr>\n",
       "      <th>0</th>\n",
       "      <td>UC295-Dw_tDNtZXFeAPAW6Aw</td>\n",
       "      <td>oGga7hZypCs</td>\n",
       "      <td>2024-09-02</td>\n",
       "      <td>11:00:48</td>\n",
       "      <td>5-Minute Crafts</td>\n",
       "      <td>UU295-Dw_tDNtZXFeAPAW6Aw</td>\n",
       "      <td>81100000</td>\n",
       "      <td>7445</td>\n",
       "      <td>27960945663</td>\n",
       "      <td>26</td>\n",
       "      <td>...</td>\n",
       "      <td>28</td>\n",
       "      <td>442</td>\n",
       "      <td>0</td>\n",
       "      <td>76602</td>\n",
       "      <td>hd</td>\n",
       "      <td>2:03:35</td>\n",
       "      <td>False</td>\n",
       "      <td>Not Restricted</td>\n",
       "      <td>public</td>\n",
       "      <td>False</td>\n",
       "    </tr>\n",
       "    <tr>\n",
       "      <th>1</th>\n",
       "      <td>UC295-Dw_tDNtZXFeAPAW6Aw</td>\n",
       "      <td>pkzIiXkRxB0</td>\n",
       "      <td>2024-08-30</td>\n",
       "      <td>11:00:54</td>\n",
       "      <td>5-Minute Crafts</td>\n",
       "      <td>UU295-Dw_tDNtZXFeAPAW6Aw</td>\n",
       "      <td>81100000</td>\n",
       "      <td>7445</td>\n",
       "      <td>27960945663</td>\n",
       "      <td>26</td>\n",
       "      <td>...</td>\n",
       "      <td>21</td>\n",
       "      <td>1165</td>\n",
       "      <td>0</td>\n",
       "      <td>341133</td>\n",
       "      <td>hd</td>\n",
       "      <td>2:01:48</td>\n",
       "      <td>False</td>\n",
       "      <td>Not Restricted</td>\n",
       "      <td>public</td>\n",
       "      <td>False</td>\n",
       "    </tr>\n",
       "    <tr>\n",
       "      <th>2</th>\n",
       "      <td>UC295-Dw_tDNtZXFeAPAW6Aw</td>\n",
       "      <td>TUS8vZaHNds</td>\n",
       "      <td>2024-08-31</td>\n",
       "      <td>11:00:26</td>\n",
       "      <td>5-Minute Crafts</td>\n",
       "      <td>UU295-Dw_tDNtZXFeAPAW6Aw</td>\n",
       "      <td>81100000</td>\n",
       "      <td>7445</td>\n",
       "      <td>27960945663</td>\n",
       "      <td>26</td>\n",
       "      <td>...</td>\n",
       "      <td>43</td>\n",
       "      <td>1374</td>\n",
       "      <td>0</td>\n",
       "      <td>222425</td>\n",
       "      <td>hd</td>\n",
       "      <td>1:00:04</td>\n",
       "      <td>False</td>\n",
       "      <td>Not Restricted</td>\n",
       "      <td>public</td>\n",
       "      <td>False</td>\n",
       "    </tr>\n",
       "    <tr>\n",
       "      <th>3</th>\n",
       "      <td>UC295-Dw_tDNtZXFeAPAW6Aw</td>\n",
       "      <td>rBzKTkUG3Wk</td>\n",
       "      <td>2024-08-31</td>\n",
       "      <td>13:00:57</td>\n",
       "      <td>5-Minute Crafts</td>\n",
       "      <td>UU295-Dw_tDNtZXFeAPAW6Aw</td>\n",
       "      <td>81100000</td>\n",
       "      <td>7445</td>\n",
       "      <td>27960945663</td>\n",
       "      <td>26</td>\n",
       "      <td>...</td>\n",
       "      <td>19</td>\n",
       "      <td>274</td>\n",
       "      <td>0</td>\n",
       "      <td>40821</td>\n",
       "      <td>hd</td>\n",
       "      <td>1:01:09</td>\n",
       "      <td>False</td>\n",
       "      <td>Not Restricted</td>\n",
       "      <td>public</td>\n",
       "      <td>False</td>\n",
       "    </tr>\n",
       "    <tr>\n",
       "      <th>4</th>\n",
       "      <td>UC295-Dw_tDNtZXFeAPAW6Aw</td>\n",
       "      <td>XHQP6mut8YI</td>\n",
       "      <td>2024-09-01</td>\n",
       "      <td>11:00:36</td>\n",
       "      <td>5-Minute Crafts</td>\n",
       "      <td>UU295-Dw_tDNtZXFeAPAW6Aw</td>\n",
       "      <td>81100000</td>\n",
       "      <td>7445</td>\n",
       "      <td>27960945663</td>\n",
       "      <td>26</td>\n",
       "      <td>...</td>\n",
       "      <td>27</td>\n",
       "      <td>485</td>\n",
       "      <td>0</td>\n",
       "      <td>82374</td>\n",
       "      <td>hd</td>\n",
       "      <td>0:20:16</td>\n",
       "      <td>False</td>\n",
       "      <td>Not Restricted</td>\n",
       "      <td>public</td>\n",
       "      <td>False</td>\n",
       "    </tr>\n",
       "  </tbody>\n",
       "</table>\n",
       "<p>5 rows × 23 columns</p>\n",
       "</div>"
      ],
      "text/plain": [
       "               c_channel_id   v_video_id v_date_publishedAt  \\\n",
       "0  UC295-Dw_tDNtZXFeAPAW6Aw  oGga7hZypCs         2024-09-02   \n",
       "1  UC295-Dw_tDNtZXFeAPAW6Aw  pkzIiXkRxB0         2024-08-30   \n",
       "2  UC295-Dw_tDNtZXFeAPAW6Aw  TUS8vZaHNds         2024-08-31   \n",
       "3  UC295-Dw_tDNtZXFeAPAW6Aw  rBzKTkUG3Wk         2024-08-31   \n",
       "4  UC295-Dw_tDNtZXFeAPAW6Aw  XHQP6mut8YI         2024-09-01   \n",
       "\n",
       "  v_time_publishedAt  c_channel_title c_channel_upload_playlist  \\\n",
       "0           11:00:48  5-Minute Crafts  UU295-Dw_tDNtZXFeAPAW6Aw   \n",
       "1           11:00:54  5-Minute Crafts  UU295-Dw_tDNtZXFeAPAW6Aw   \n",
       "2           11:00:26  5-Minute Crafts  UU295-Dw_tDNtZXFeAPAW6Aw   \n",
       "3           13:00:57  5-Minute Crafts  UU295-Dw_tDNtZXFeAPAW6Aw   \n",
       "4           11:00:36  5-Minute Crafts  UU295-Dw_tDNtZXFeAPAW6Aw   \n",
       "\n",
       "   c_channel_subCount  c_channel_videoCount  c_channel_viewCount  \\\n",
       "0            81100000                  7445          27960945663   \n",
       "1            81100000                  7445          27960945663   \n",
       "2            81100000                  7445          27960945663   \n",
       "3            81100000                  7445          27960945663   \n",
       "4            81100000                  7445          27960945663   \n",
       "\n",
       "   v_category_id  ... v_comment_count v_likes v_favorites  v_views  \\\n",
       "0             26  ...              28     442           0    76602   \n",
       "1             26  ...              21    1165           0   341133   \n",
       "2             26  ...              43    1374           0   222425   \n",
       "3             26  ...              19     274           0    40821   \n",
       "4             26  ...              27     485           0    82374   \n",
       "\n",
       "   v_definition  v_duration  v_caption v_age_restricted v_privacy_status  \\\n",
       "0            hd     2:03:35      False   Not Restricted           public   \n",
       "1            hd     2:01:48      False   Not Restricted           public   \n",
       "2            hd     1:00:04      False   Not Restricted           public   \n",
       "3            hd     1:01:09      False   Not Restricted           public   \n",
       "4            hd     0:20:16      False   Not Restricted           public   \n",
       "\n",
       "   v_made_for_kids  \n",
       "0            False  \n",
       "1            False  \n",
       "2            False  \n",
       "3            False  \n",
       "4            False  \n",
       "\n",
       "[5 rows x 23 columns]"
      ]
     },
     "execution_count": 1,
     "metadata": {},
     "output_type": "execute_result"
    }
   ],
   "source": [
    "# Importing libraries\n",
    "import joblib\n",
    "import re\n",
    "import pandas as pd\n",
    "import matplotlib.pyplot as plt\n",
    "import numpy as np\n",
    "import tensorflow as tf\n",
    "from sklearn.feature_extraction.text import CountVectorizer\n",
    "from sklearn.ensemble import RandomForestClassifier\n",
    "from sklearn.model_selection import train_test_split\n",
    "from sklearn.metrics import accuracy_score, confusion_matrix, classification_report\n",
    "from sklearn.preprocessing import LabelEncoder\n",
    "from scipy.sparse import hstack\n",
    "from xgboost import XGBClassifier\n",
    "\n",
    "# Read in our CSV data\n",
    "file_path = 'data/english_video_data.csv'\n",
    "videos_df = pd.read_csv(file_path)\n",
    "videos_df.head()"
   ]
  },
  {
   "cell_type": "markdown",
   "metadata": {},
   "source": [
    "## Data Preprocessing"
   ]
  },
  {
   "cell_type": "code",
   "execution_count": 2,
   "metadata": {},
   "outputs": [],
   "source": [
    "# Make sure descriptions have a blank string rather than nothing \n",
    "videos_df['v_description'] = videos_df['v_description'].fillna(\"\")\n",
    "\n",
    "# Remove some columns that we wont need in this model\n",
    "videos_df_2 = videos_df.drop(['v_favorites','v_privacy_status','c_channel_id','v_video_id','c_channel_upload_playlist',\n",
    "                              'c_channel_subCount','c_channel_videoCount','c_channel_viewCount','v_likes','v_comment_count'], axis=1)"
   ]
  },
  {
   "cell_type": "code",
   "execution_count": 3,
   "metadata": {},
   "outputs": [],
   "source": [
    "# Change the way duration, date published, and time published are formatted\n",
    "videos_df_2['v_date_publishedAt'] = videos_df_2['v_date_publishedAt'].astype('datetime64[s]')\n",
    "videos_df_2['v_time_publishedAt'] = videos_df_2['v_time_publishedAt'].astype('datetime64[s]')\n",
    "\n",
    "videos_df_2['v_year'] = videos_df_2['v_date_publishedAt'].dt.year\n",
    "videos_df_2['v_mont'] = videos_df_2['v_date_publishedAt'].dt.month\n",
    "videos_df_2['v_day'] = videos_df_2['v_date_publishedAt'].dt.day\n",
    "videos_df_2['v_hour'] = videos_df_2['v_time_publishedAt'].dt.hour\n",
    "videos_df_2['v_minute'] = videos_df_2['v_time_publishedAt'].dt.minute\n",
    "videos_df_2['v_second'] = videos_df_2['v_time_publishedAt'].dt.second\n",
    "\n",
    "videos_df_2.drop(['v_date_publishedAt', 'v_time_publishedAt'], axis=1, inplace=True)\n",
    "\n",
    "videos_df_2['v_duration_time'] = pd.to_timedelta(videos_df_2['v_duration'])\n",
    "\n",
    "videos_df_2['v_duration_time'] = videos_df_2['v_duration_time'].dt.total_seconds()\n",
    "\n",
    "videos_df_2.drop(['v_duration'], axis=1, inplace=True)"
   ]
  },
  {
   "cell_type": "code",
   "execution_count": 4,
   "metadata": {},
   "outputs": [],
   "source": [
    "# list of all category names from Youtube with their ID's\n",
    "categories = {\n",
    "    1: \"Film & Animation\",\n",
    "    2: \"Autos & Vehicles\",\n",
    "    10: \"Music\",\n",
    "    15: \"Pets & Animals\",\n",
    "    17: \"Sports\",\n",
    "    18: \"Short Movies\",\n",
    "    19: \"Travel & Events\",\n",
    "    20: \"Gaming\",\n",
    "    21: \"Videoblogging\",\n",
    "    22: \"People & Blogs\",\n",
    "    23: \"Comedy\",\n",
    "    24: \"Entertainment\",\n",
    "    25: \"News & Politics\",\n",
    "    26: \"Howto & Style\",\n",
    "    27: \"Education\",\n",
    "    28: \"Science & Technology\",\n",
    "    29: \"Nonprofits & Activism\",\n",
    "    30: \"Movies\",\n",
    "    31: \"Anime/Animation\",\n",
    "    32: \"Action/Adventure\",\n",
    "    33: \"Classics\",\n",
    "    34: \"Comedy\",\n",
    "    35: \"Documentary\",\n",
    "    36: \"Drama\",\n",
    "    37: \"Family\",\n",
    "    38: \"Foreign\",\n",
    "    39: \"Horror\",\n",
    "    40: \"Sci-Fi/Fantasy\",\n",
    "    41: \"Thriller\",\n",
    "    42: \"Shorts\",\n",
    "    43: \"Shows\",\n",
    "    44: \"Trailers\"\n",
    "}\n",
    "\n",
    "# Function to change category id to the category name\n",
    "def name_categories(df, category_dict):\n",
    "    for index, row in df.iterrows():\n",
    "        if row['v_category_id'] in [23, 10, 17, 15, 19]:\n",
    "            df.at[index, 'v_category_id'] = \"other\"\n",
    "        elif row['v_category_id'] in category_dict:\n",
    "            df.at[index, 'v_category_id'] = category_dict[row['v_category_id']]\n",
    "\n",
    "    return df"
   ]
  },
  {
   "cell_type": "code",
   "execution_count": 5,
   "metadata": {},
   "outputs": [
    {
     "name": "stderr",
     "output_type": "stream",
     "text": [
      "C:\\Users\\papad\\AppData\\Local\\Temp\\ipykernel_7704\\917203685.py:43: FutureWarning: Setting an item of incompatible dtype is deprecated and will raise an error in a future version of pandas. Value 'Howto & Style' has dtype incompatible with int64, please explicitly cast to a compatible dtype first.\n",
      "  df.at[index, 'v_category_id'] = category_dict[row['v_category_id']]\n"
     ]
    }
   ],
   "source": [
    "# Uses function above to change category\n",
    "videos_df_cats = name_categories(videos_df_2, categories)"
   ]
  },
  {
   "cell_type": "code",
   "execution_count": 6,
   "metadata": {},
   "outputs": [],
   "source": [
    "# This will randomize the order of our datafram since the CSV that was read in was sorted\n",
    "videos_df_cats = videos_df_cats.sample(frac=1, random_state=42).reset_index(drop=True)"
   ]
  },
  {
   "cell_type": "code",
   "execution_count": 7,
   "metadata": {},
   "outputs": [],
   "source": [
    "# Get dummies for certain columns\n",
    "videos_df_dummies = pd.get_dummies(data= videos_df_cats, columns=['v_category_id','v_definition','v_caption','v_age_restricted','v_made_for_kids'],dtype=int)"
   ]
  },
  {
   "cell_type": "code",
   "execution_count": 8,
   "metadata": {},
   "outputs": [],
   "source": [
    "# Function to bucket our views column for our models to use as target(y)\n",
    "def bucket_views(df, column_name):\n",
    "    bins = [-1, 1000, 5000, 10000, 50000, 100000, 500000, 1000000, float(\"inf\")]\n",
    "    labels = [\n",
    "        \"Very Low (0 - 1K)\",\n",
    "        \"Low (1K - 5K)\",\n",
    "        \"Moderate (5K - 10K)\",\n",
    "        \"Growing (10K - 50K)\",\n",
    "        \"Established (50K - 100K)\",\n",
    "        \"Popular (100K - 500K)\",\n",
    "        \"Trending (500K - 1M)\",\n",
    "        \"Viral (1M+)\"\n",
    "    ]\n",
    "    df[\"view_bucket\"] = pd.cut(df[column_name], bins=bins, labels=labels, right=True)\n",
    "    \n",
    "    return df"
   ]
  },
  {
   "cell_type": "code",
   "execution_count": 9,
   "metadata": {},
   "outputs": [
    {
     "data": {
      "text/plain": [
       "view_bucket\n",
       "Low (1K - 5K)               6825\n",
       "Very Low (0 - 1K)           5072\n",
       "Growing (10K - 50K)         4546\n",
       "Moderate (5K - 10K)         3334\n",
       "Popular (100K - 500K)       1235\n",
       "Established (50K - 100K)    1039\n",
       "Viral (1M+)                  251\n",
       "Trending (500K - 1M)         214\n",
       "Name: count, dtype: int64"
      ]
     },
     "execution_count": 9,
     "metadata": {},
     "output_type": "execute_result"
    }
   ],
   "source": [
    "# Use the function bucket_views to bucket each video viewcount\n",
    "bucket_video_df = bucket_views(videos_df_dummies, 'v_views')\n",
    "bucket_video_df.drop(columns=['v_views'], axis=1, inplace =True)\n",
    "bucket_video_df['view_bucket'].value_counts()"
   ]
  },
  {
   "cell_type": "code",
   "execution_count": 10,
   "metadata": {},
   "outputs": [],
   "source": [
    "# Use labelencoder to change bucket names to numeric\n",
    "encoder = LabelEncoder()\n",
    "bucket_video_df[\"video_views_bucket_encoded\"] = encoder.fit_transform(bucket_video_df[\"view_bucket\"])"
   ]
  },
  {
   "cell_type": "code",
   "execution_count": 11,
   "metadata": {},
   "outputs": [],
   "source": [
    "# Drop columns that wont be used\n",
    "bucket_video_df = bucket_video_df.drop(columns=['v_caption_False','v_made_for_kids_False','view_bucket'])"
   ]
  },
  {
   "cell_type": "code",
   "execution_count": 12,
   "metadata": {},
   "outputs": [],
   "source": [
    "# Split our data into text columns and numeric columns\n",
    "text_columns = ['c_channel_title', 'v_tags', 'v_title','v_description']\n",
    "numeric_columns = [col for col in bucket_video_df.columns if (col not in text_columns) and (col != 'video_views_bucket_encoded')]"
   ]
  },
  {
   "cell_type": "code",
   "execution_count": 13,
   "metadata": {},
   "outputs": [],
   "source": [
    "# Function to clean up lines to not include links or the word video/channel\n",
    "def remove_urls(description):\n",
    "    clean_text = re.sub(r\"http\\S+|www\\S+|https\\S+\", \"\", description, flags=re.MULTILINE)\n",
    "    clean_text = re.sub(rf\"\\b{re.escape('video')}\\b\", \"\", clean_text, flags=re.IGNORECASE)\n",
    "    clean_text = re.sub(rf\"\\b{re.escape('channel')}\\b\", \"\", clean_text, flags=re.IGNORECASE)\n",
    "    return clean_text"
   ]
  },
  {
   "cell_type": "markdown",
   "metadata": {},
   "source": [
    "## Beginning of Model Building"
   ]
  },
  {
   "cell_type": "code",
   "execution_count": 14,
   "metadata": {},
   "outputs": [],
   "source": [
    "# Split our data into Features and Target\n",
    "y = bucket_video_df['video_views_bucket_encoded']\n",
    "X = bucket_video_df.drop(columns=['video_views_bucket_encoded'])"
   ]
  },
  {
   "cell_type": "code",
   "execution_count": 15,
   "metadata": {},
   "outputs": [],
   "source": [
    "# Split our data into testing and training data\n",
    "X_train, X_test, y_train, y_test = train_test_split(X,y,test_size=0.2,random_state=42)"
   ]
  },
  {
   "cell_type": "code",
   "execution_count": 16,
   "metadata": {},
   "outputs": [
    {
     "name": "stdout",
     "output_type": "stream",
     "text": [
      "Text train shape: (18012, 67519)\n",
      "Text test shape: (4504, 67519)\n",
      "Numeric train shape: (18012, 24)\n",
      "Numeric test shape: (4504, 24)\n",
      "Combined train shape: (18012, 67543)\n",
      "Combined test shape: (4504, 67543)\n"
     ]
    }
   ],
   "source": [
    "# this will break down text columns into seperate words using remove_urls to clean out some things\n",
    "text_transformer = CountVectorizer(stop_words='english', preprocessor=remove_urls, ngram_range=(1,1))\n",
    "text_train_transformed = text_transformer.fit_transform(X_train[text_columns].apply(lambda x: ' '.join(x), axis=1))  # Convert text columns into a single string\n",
    "text_test_transformed = text_transformer.transform(X_test[text_columns].apply(lambda x: ' '.join(x), axis=1))\n",
    "\n",
    "# Make sure shapes match up\n",
    "print(\"Text train shape:\", text_train_transformed.shape)\n",
    "print(\"Text test shape:\", text_test_transformed.shape)\n",
    "print(\"Numeric train shape:\", X_train[numeric_columns].shape)\n",
    "print(\"Numeric test shape:\", X_test[numeric_columns].shape)\n",
    "\n",
    "# Re-combine text data and numeric data\n",
    "X_train_combined = hstack([text_train_transformed, X_train[numeric_columns]])\n",
    "X_test_combined = hstack([text_test_transformed, X_test[numeric_columns]])\n",
    "\n",
    "# Make sure shapes match up\n",
    "print(\"Combined train shape:\", X_train_combined.shape)\n",
    "print(\"Combined test shape:\", X_test_combined.shape)"
   ]
  },
  {
   "cell_type": "code",
   "execution_count": 17,
   "metadata": {},
   "outputs": [],
   "source": [
    "# Function to get Feature names and display the top 20 by value\n",
    "def display_top_features(text_transformer, numeric_columns, model):\n",
    "    # Get feature names\n",
    "    text_feature_names = text_transformer.get_feature_names_out().tolist()\n",
    "    numeric_feature_names = list(numeric_columns)\n",
    "    combined_feature_names = list(text_feature_names) + numeric_feature_names\n",
    "\n",
    "    # Get the importance of each feature\n",
    "    importances = model.feature_importances_\n",
    "\n",
    "    # Sort feature by importance\n",
    "    indices = np.argsort(importances)[::-1]\n",
    "\n",
    "    # Get the top 20 by importance\n",
    "    top_20_indices = indices[:20]\n",
    "    combined_feature_names = [combined_feature_names[i] for i in top_20_indices]\n",
    "    combined_importances = importances[top_20_indices]\n",
    "\n",
    "    # Display a bar graph showing top 20 by importance\n",
    "    plt.figure(figsize=(10,6))\n",
    "    plt.title(\"Top 20 Feature Importance\")\n",
    "    plt.bar(range(len(combined_importances)), combined_importances, align=\"center\")\n",
    "    plt.xticks(range(len(combined_importances)), combined_feature_names, rotation=90)\n",
    "    plt.show()\n",
    "\n",
    "    return"
   ]
  },
  {
   "cell_type": "markdown",
   "metadata": {},
   "source": [
    "### Random Forest Model"
   ]
  },
  {
   "cell_type": "code",
   "execution_count": 18,
   "metadata": {},
   "outputs": [
    {
     "name": "stdout",
     "output_type": "stream",
     "text": [
      "Accuracy: 55.551%\n",
      "Confusion Matrix:\n",
      " [[ 21 102  24  20  47   2   7   1]\n",
      " [ 12 524 197 111  25   1  26   0]\n",
      " [  2  69 923 107   2   0 246   0]\n",
      " [  0 208 268 175   4   0  38   0]\n",
      " [ 27 100  18   5 110   3   3   4]\n",
      " [  1  16   2   3  15   1   0   5]\n",
      " [  0   5 218   4   0   0 741   0]\n",
      " [  0  25   5   3  19   1   1   7]]\n",
      "Classification Report:\n",
      "               precision    recall  f1-score   support\n",
      "\n",
      "           0       0.33      0.09      0.15       224\n",
      "           1       0.50      0.58      0.54       896\n",
      "           2       0.56      0.68      0.61      1349\n",
      "           3       0.41      0.25      0.31       693\n",
      "           4       0.50      0.41      0.45       270\n",
      "           5       0.12      0.02      0.04        43\n",
      "           6       0.70      0.77      0.73       968\n",
      "           7       0.41      0.11      0.18        61\n",
      "\n",
      "    accuracy                           0.56      4504\n",
      "   macro avg       0.44      0.37      0.38      4504\n",
      "weighted avg       0.53      0.56      0.53      4504\n",
      "\n"
     ]
    },
    {
     "data": {
      "text/plain": [
       "['model/rf_model_text.pkl']"
      ]
     },
     "execution_count": 18,
     "metadata": {},
     "output_type": "execute_result"
    }
   ],
   "source": [
    "# Random Forest Hyperparameters\n",
    "rf_model = RandomForestClassifier(\n",
    "    random_state=42,\n",
    "    n_estimators=200,\n",
    "    max_depth=None, \n",
    "    min_samples_split=2,\n",
    "    min_samples_leaf=1,\n",
    "    max_features='sqrt',\n",
    "    bootstrap=True,\n",
    "    n_jobs=-1,\n",
    "    class_weight='balanced'\n",
    ")\n",
    "\n",
    "# Train the model and get predictions\n",
    "rf_model.fit(X_train_combined, y_train)\n",
    "rf_y_pred = rf_model.predict(X_test_combined)\n",
    "\n",
    "# Show accuracy, cofusion matric, and classification report\n",
    "rf_accuracy = accuracy_score(y_test, rf_y_pred)\n",
    "print(f\"Accuracy: {rf_accuracy*100:.3f}%\")\n",
    "print(\"Confusion Matrix:\\n\", confusion_matrix(y_test, rf_y_pred))\n",
    "print(\"Classification Report:\\n\", classification_report(y_test, rf_y_pred))\n",
    "\n",
    "# Save the model\n",
    "joblib.dump(rf_model, \"model/rf_model_text.pkl\")"
   ]
  },
  {
   "cell_type": "code",
   "execution_count": 19,
   "metadata": {},
   "outputs": [
    {
     "data": {
      "image/png": "[encoded data removed]",
      "text/plain": [
       "<Figure size 1000x600 with 1 Axes>"
      ]
     },
     "metadata": {},
     "output_type": "display_data"
    }
   ],
   "source": [
    "# Display top 20 features\n",
    "display_top_features(text_transformer,numeric_columns,rf_model)"
   ]
  },
  {
   "cell_type": "markdown",
   "metadata": {},
   "source": [
    "### XGBoost Model"
   ]
  },
  {
   "cell_type": "code",
   "execution_count": 20,
   "metadata": {},
   "outputs": [
    {
     "name": "stdout",
     "output_type": "stream",
     "text": [
      "Accuracy: 56.528%\n",
      "Confusion Matrix:\n",
      " [[ 30  93  20  24  43   5   8   1]\n",
      " [ 15 529 165 140  19   0  27   1]\n",
      " [  1  73 930 101   2   0 242   0]\n",
      " [  1 194 240 222   1   0  34   1]\n",
      " [ 45  84  29   6  95   5   1   5]\n",
      " [  1  19   3   0  11   2   0   7]\n",
      " [  0   5 231   2   0   0 730   0]\n",
      " [  2  25   6   1  18   1   0   8]]\n",
      "Classification Report:\n",
      "               precision    recall  f1-score   support\n",
      "\n",
      "           0       0.32      0.13      0.19       224\n",
      "           1       0.52      0.59      0.55       896\n",
      "           2       0.57      0.69      0.63      1349\n",
      "           3       0.45      0.32      0.37       693\n",
      "           4       0.50      0.35      0.41       270\n",
      "           5       0.15      0.05      0.07        43\n",
      "           6       0.70      0.75      0.73       968\n",
      "           7       0.35      0.13      0.19        61\n",
      "\n",
      "    accuracy                           0.57      4504\n",
      "   macro avg       0.44      0.38      0.39      4504\n",
      "weighted avg       0.55      0.57      0.55      4504\n",
      "\n"
     ]
    },
    {
     "data": {
      "text/plain": [
       "['model/xgb_model_text.pkl']"
      ]
     },
     "execution_count": 20,
     "metadata": {},
     "output_type": "execute_result"
    }
   ],
   "source": [
    "# XGB Hyperparameters\n",
    "xgb_model = XGBClassifier(\n",
    "    random_state=42,\n",
    "    max_depth=20,\n",
    "    learning_rate=0.05,\n",
    "    n_estimators=1000,\n",
    "    min_child_weight=3,\n",
    "    subsample=0.8,\n",
    "    colsample_bytree=0.8,\n",
    "    gamma=1,\n",
    ")\n",
    "\n",
    "# Train the model and get predictions\n",
    "xgb_model.fit(X_train_combined, y_train)\n",
    "xgb_y_pred = xgb_model.predict(X_test_combined)\n",
    "\n",
    "# Show accuracy, cofusion matric, and classification report\n",
    "xgb_accuracy = accuracy_score(y_test, xgb_y_pred)\n",
    "print(f\"Accuracy: {xgb_accuracy*100:.3f}%\")\n",
    "print(\"Confusion Matrix:\\n\", confusion_matrix(y_test, xgb_y_pred))\n",
    "print(\"Classification Report:\\n\", classification_report(y_test, xgb_y_pred))\n",
    "\n",
    "# Save the model\n",
    "xgb_model.save_model(\"model/xgb_model_text.json\")\n",
    "joblib.dump(xgb_model, \"model/xgb_model_text.pkl\")"
   ]
  },
  {
   "cell_type": "code",
   "execution_count": 21,
   "metadata": {},
   "outputs": [
    {
     "data": {
      "image/png": "[encoded data removed]",
      "text/plain": [
       "<Figure size 1000x600 with 1 Axes>"
      ]
     },
     "metadata": {},
     "output_type": "display_data"
    }
   ],
   "source": [
    "# Display top 20 features\n",
    "display_top_features(text_transformer,numeric_columns,xgb_model)"
   ]
  },
  {
   "cell_type": "markdown",
   "metadata": {},
   "source": [
    "### Neural Network Model"
   ]
  },
  {
   "cell_type": "code",
   "execution_count": 22,
   "metadata": {},
   "outputs": [
    {
     "name": "stderr",
     "output_type": "stream",
     "text": [
      "c:\\Users\\papad\\anaconda3\\Lib\\site-packages\\keras\\src\\layers\\core\\dense.py:87: UserWarning: Do not pass an `input_shape`/`input_dim` argument to a layer. When using Sequential models, prefer using an `Input(shape)` object as the first layer in the model instead.\n",
      "  super().__init__(activity_regularizer=activity_regularizer, **kwargs)\n"
     ]
    },
    {
     "data": {
      "text/html": [
       "<pre style=\"white-space:pre;overflow-x:auto;line-height:normal;font-family:Menlo,'DejaVu Sans Mono',consolas,'Courier New',monospace\"><span style=\"font-weight: bold\">Model: \"sequential\"</span>\n",
       "</pre>\n"
      ],
      "text/plain": [
       "\u001b[1mModel: \"sequential\"\u001b[0m\n"
      ]
     },
     "metadata": {},
     "output_type": "display_data"
    },
    {
     "data": {
      "text/html": [
       "<pre style=\"white-space:pre;overflow-x:auto;line-height:normal;font-family:Menlo,'DejaVu Sans Mono',consolas,'Courier New',monospace\">┏━━━━━━━━━━━━━━━━━━━━━━━━━━━━━━━━━┳━━━━━━━━━━━━━━━━━━━━━━━━┳━━━━━━━━━━━━━━━┓\n",
       "┃<span style=\"font-weight: bold\"> Layer (type)                    </span>┃<span style=\"font-weight: bold\"> Output Shape           </span>┃<span style=\"font-weight: bold\">       Param # </span>┃\n",
       "┡━━━━━━━━━━━━━━━━━━━━━━━━━━━━━━━━━╇━━━━━━━━━━━━━━━━━━━━━━━━╇━━━━━━━━━━━━━━━┩\n",
       "│ dense (<span style=\"color: #0087ff; text-decoration-color: #0087ff\">Dense</span>)                   │ (<span style=\"color: #00d7ff; text-decoration-color: #00d7ff\">None</span>, <span style=\"color: #00af00; text-decoration-color: #00af00\">8</span>)              │       <span style=\"color: #00af00; text-decoration-color: #00af00\">540,352</span> │\n",
       "├─────────────────────────────────┼────────────────────────┼───────────────┤\n",
       "│ dense_1 (<span style=\"color: #0087ff; text-decoration-color: #0087ff\">Dense</span>)                 │ (<span style=\"color: #00d7ff; text-decoration-color: #00d7ff\">None</span>, <span style=\"color: #00af00; text-decoration-color: #00af00\">4</span>)              │            <span style=\"color: #00af00; text-decoration-color: #00af00\">36</span> │\n",
       "├─────────────────────────────────┼────────────────────────┼───────────────┤\n",
       "│ dense_2 (<span style=\"color: #0087ff; text-decoration-color: #0087ff\">Dense</span>)                 │ (<span style=\"color: #00d7ff; text-decoration-color: #00d7ff\">None</span>, <span style=\"color: #00af00; text-decoration-color: #00af00\">1</span>)              │             <span style=\"color: #00af00; text-decoration-color: #00af00\">5</span> │\n",
       "└─────────────────────────────────┴────────────────────────┴───────────────┘\n",
       "</pre>\n"
      ],
      "text/plain": [
       "┏━━━━━━━━━━━━━━━━━━━━━━━━━━━━━━━━━┳━━━━━━━━━━━━━━━━━━━━━━━━┳━━━━━━━━━━━━━━━┓\n",
       "┃\u001b[1m \u001b[0m\u001b[1mLayer (type)                   \u001b[0m\u001b[1m \u001b[0m┃\u001b[1m \u001b[0m\u001b[1mOutput Shape          \u001b[0m\u001b[1m \u001b[0m┃\u001b[1m \u001b[0m\u001b[1m      Param #\u001b[0m\u001b[1m \u001b[0m┃\n",
       "┡━━━━━━━━━━━━━━━━━━━━━━━━━━━━━━━━━╇━━━━━━━━━━━━━━━━━━━━━━━━╇━━━━━━━━━━━━━━━┩\n",
       "│ dense (\u001b[38;5;33mDense\u001b[0m)                   │ (\u001b[38;5;45mNone\u001b[0m, \u001b[38;5;34m8\u001b[0m)              │       \u001b[38;5;34m540,352\u001b[0m │\n",
       "├─────────────────────────────────┼────────────────────────┼───────────────┤\n",
       "│ dense_1 (\u001b[38;5;33mDense\u001b[0m)                 │ (\u001b[38;5;45mNone\u001b[0m, \u001b[38;5;34m4\u001b[0m)              │            \u001b[38;5;34m36\u001b[0m │\n",
       "├─────────────────────────────────┼────────────────────────┼───────────────┤\n",
       "│ dense_2 (\u001b[38;5;33mDense\u001b[0m)                 │ (\u001b[38;5;45mNone\u001b[0m, \u001b[38;5;34m1\u001b[0m)              │             \u001b[38;5;34m5\u001b[0m │\n",
       "└─────────────────────────────────┴────────────────────────┴───────────────┘\n"
      ]
     },
     "metadata": {},
     "output_type": "display_data"
    },
    {
     "data": {
      "text/html": [
       "<pre style=\"white-space:pre;overflow-x:auto;line-height:normal;font-family:Menlo,'DejaVu Sans Mono',consolas,'Courier New',monospace\"><span style=\"font-weight: bold\"> Total params: </span><span style=\"color: #00af00; text-decoration-color: #00af00\">540,393</span> (2.06 MB)\n",
       "</pre>\n"
      ],
      "text/plain": [
       "\u001b[1m Total params: \u001b[0m\u001b[38;5;34m540,393\u001b[0m (2.06 MB)\n"
      ]
     },
     "metadata": {},
     "output_type": "display_data"
    },
    {
     "data": {
      "text/html": [
       "<pre style=\"white-space:pre;overflow-x:auto;line-height:normal;font-family:Menlo,'DejaVu Sans Mono',consolas,'Courier New',monospace\"><span style=\"font-weight: bold\"> Trainable params: </span><span style=\"color: #00af00; text-decoration-color: #00af00\">540,393</span> (2.06 MB)\n",
       "</pre>\n"
      ],
      "text/plain": [
       "\u001b[1m Trainable params: \u001b[0m\u001b[38;5;34m540,393\u001b[0m (2.06 MB)\n"
      ]
     },
     "metadata": {},
     "output_type": "display_data"
    },
    {
     "data": {
      "text/html": [
       "<pre style=\"white-space:pre;overflow-x:auto;line-height:normal;font-family:Menlo,'DejaVu Sans Mono',consolas,'Courier New',monospace\"><span style=\"font-weight: bold\"> Non-trainable params: </span><span style=\"color: #00af00; text-decoration-color: #00af00\">0</span> (0.00 B)\n",
       "</pre>\n"
      ],
      "text/plain": [
       "\u001b[1m Non-trainable params: \u001b[0m\u001b[38;5;34m0\u001b[0m (0.00 B)\n"
      ]
     },
     "metadata": {},
     "output_type": "display_data"
    }
   ],
   "source": [
    "# Define the neural network model\n",
    "number_input_features = X_train_combined.shape[1]\n",
    "hidden_nodes_layer1 = 8\n",
    "hidden_nodes_layer2 = 4\n",
    "hidden_nodes_layer3 = 1\n",
    "\n",
    "nn = tf.keras.models.Sequential()\n",
    "\n",
    "# First hidden layer\n",
    "nn.add(tf.keras.layers.Dense(units=hidden_nodes_layer1, activation=\"relu\", input_dim=number_input_features))\n",
    "# Second hidden layer\n",
    "nn.add(tf.keras.layers.Dense(units=hidden_nodes_layer2, activation=\"relu\"))\n",
    "# Output layer\n",
    "nn.add(tf.keras.layers.Dense(units=hidden_nodes_layer3, activation=\"sigmoid\"))\n",
    "\n",
    "# Check the structure of the model\n",
    "nn.summary()"
   ]
  },
  {
   "cell_type": "code",
   "execution_count": 23,
   "metadata": {},
   "outputs": [
    {
     "name": "stdout",
     "output_type": "stream",
     "text": [
      "Epoch 1/100\n",
      "\u001b[1m563/563\u001b[0m \u001b[32m━━━━━━━━━━━━━━━━━━━━\u001b[0m\u001b[37m\u001b[0m \u001b[1m6s\u001b[0m 7ms/step - accuracy: 0.1972 - loss: -1077.4110\n",
      "Epoch 2/100\n",
      "\u001b[1m563/563\u001b[0m \u001b[32m━━━━━━━━━━━━━━━━━━━━\u001b[0m\u001b[37m\u001b[0m \u001b[1m4s\u001b[0m 7ms/step - accuracy: 0.2033 - loss: -31475.9043\n",
      "Epoch 3/100\n",
      "\u001b[1m563/563\u001b[0m \u001b[32m━━━━━━━━━━━━━━━━━━━━\u001b[0m\u001b[37m\u001b[0m \u001b[1m4s\u001b[0m 8ms/step - accuracy: 0.2084 - loss: -152240.3594\n",
      "Epoch 4/100\n",
      "\u001b[1m563/563\u001b[0m \u001b[32m━━━━━━━━━━━━━━━━━━━━\u001b[0m\u001b[37m\u001b[0m \u001b[1m4s\u001b[0m 7ms/step - accuracy: 0.2015 - loss: -409644.0938\n",
      "Epoch 5/100\n",
      "\u001b[1m563/563\u001b[0m \u001b[32m━━━━━━━━━━━━━━━━━━━━\u001b[0m\u001b[37m\u001b[0m \u001b[1m4s\u001b[0m 7ms/step - accuracy: 0.2036 - loss: -820471.0625\n",
      "Epoch 6/100\n",
      "\u001b[1m563/563\u001b[0m \u001b[32m━━━━━━━━━━━━━━━━━━━━\u001b[0m\u001b[37m\u001b[0m \u001b[1m4s\u001b[0m 7ms/step - accuracy: 0.2055 - loss: -1399618.8750\n",
      "Epoch 7/100\n",
      "\u001b[1m563/563\u001b[0m \u001b[32m━━━━━━━━━━━━━━━━━━━━\u001b[0m\u001b[37m\u001b[0m \u001b[1m4s\u001b[0m 7ms/step - accuracy: 0.1968 - loss: -2189510.7500\n",
      "Epoch 8/100\n",
      "\u001b[1m563/563\u001b[0m \u001b[32m━━━━━━━━━━━━━━━━━━━━\u001b[0m\u001b[37m\u001b[0m \u001b[1m4s\u001b[0m 7ms/step - accuracy: 0.2080 - loss: -3097786.7500\n",
      "Epoch 9/100\n",
      "\u001b[1m563/563\u001b[0m \u001b[32m━━━━━━━━━━━━━━━━━━━━\u001b[0m\u001b[37m\u001b[0m \u001b[1m4s\u001b[0m 7ms/step - accuracy: 0.2044 - loss: -4368527.5000\n",
      "Epoch 10/100\n",
      "\u001b[1m563/563\u001b[0m \u001b[32m━━━━━━━━━━━━━━━━━━━━\u001b[0m\u001b[37m\u001b[0m \u001b[1m4s\u001b[0m 7ms/step - accuracy: 0.1993 - loss: -5692543.5000\n",
      "Epoch 11/100\n",
      "\u001b[1m563/563\u001b[0m \u001b[32m━━━━━━━━━━━━━━━━━━━━\u001b[0m\u001b[37m\u001b[0m \u001b[1m4s\u001b[0m 7ms/step - accuracy: 0.1982 - loss: -7373997.0000\n",
      "Epoch 12/100\n",
      "\u001b[1m563/563\u001b[0m \u001b[32m━━━━━━━━━━━━━━━━━━━━\u001b[0m\u001b[37m\u001b[0m \u001b[1m4s\u001b[0m 7ms/step - accuracy: 0.2009 - loss: -9295634.0000\n",
      "Epoch 13/100\n",
      "\u001b[1m563/563\u001b[0m \u001b[32m━━━━━━━━━━━━━━━━━━━━\u001b[0m\u001b[37m\u001b[0m \u001b[1m4s\u001b[0m 7ms/step - accuracy: 0.2025 - loss: -11496647.0000\n",
      "Epoch 14/100\n",
      "\u001b[1m563/563\u001b[0m \u001b[32m━━━━━━━━━━━━━━━━━━━━\u001b[0m\u001b[37m\u001b[0m \u001b[1m4s\u001b[0m 7ms/step - accuracy: 0.1965 - loss: -13829442.0000\n",
      "Epoch 15/100\n",
      "\u001b[1m563/563\u001b[0m \u001b[32m━━━━━━━━━━━━━━━━━━━━\u001b[0m\u001b[37m\u001b[0m \u001b[1m4s\u001b[0m 7ms/step - accuracy: 0.2012 - loss: -16415070.0000\n",
      "Epoch 16/100\n",
      "\u001b[1m563/563\u001b[0m \u001b[32m━━━━━━━━━━━━━━━━━━━━\u001b[0m\u001b[37m\u001b[0m \u001b[1m4s\u001b[0m 7ms/step - accuracy: 0.2002 - loss: -19358856.0000\n",
      "Epoch 17/100\n",
      "\u001b[1m563/563\u001b[0m \u001b[32m━━━━━━━━━━━━━━━━━━━━\u001b[0m\u001b[37m\u001b[0m \u001b[1m4s\u001b[0m 7ms/step - accuracy: 0.2079 - loss: -22209578.0000\n",
      "Epoch 18/100\n",
      "\u001b[1m563/563\u001b[0m \u001b[32m━━━━━━━━━━━━━━━━━━━━\u001b[0m\u001b[37m\u001b[0m \u001b[1m4s\u001b[0m 7ms/step - accuracy: 0.2051 - loss: -26069590.0000\n",
      "Epoch 19/100\n",
      "\u001b[1m563/563\u001b[0m \u001b[32m━━━━━━━━━━━━━━━━━━━━\u001b[0m\u001b[37m\u001b[0m \u001b[1m4s\u001b[0m 7ms/step - accuracy: 0.2003 - loss: -30271700.0000\n",
      "Epoch 20/100\n",
      "\u001b[1m563/563\u001b[0m \u001b[32m━━━━━━━━━━━━━━━━━━━━\u001b[0m\u001b[37m\u001b[0m \u001b[1m4s\u001b[0m 7ms/step - accuracy: 0.2043 - loss: -34227704.0000\n",
      "Epoch 21/100\n",
      "\u001b[1m563/563\u001b[0m \u001b[32m━━━━━━━━━━━━━━━━━━━━\u001b[0m\u001b[37m\u001b[0m \u001b[1m4s\u001b[0m 7ms/step - accuracy: 0.2028 - loss: -38489688.0000\n",
      "Epoch 22/100\n",
      "\u001b[1m563/563\u001b[0m \u001b[32m━━━━━━━━━━━━━━━━━━━━\u001b[0m\u001b[37m\u001b[0m \u001b[1m4s\u001b[0m 7ms/step - accuracy: 0.2009 - loss: -43755360.0000\n",
      "Epoch 23/100\n",
      "\u001b[1m563/563\u001b[0m \u001b[32m━━━━━━━━━━━━━━━━━━━━\u001b[0m\u001b[37m\u001b[0m \u001b[1m4s\u001b[0m 7ms/step - accuracy: 0.2048 - loss: -48383752.0000\n",
      "Epoch 24/100\n",
      "\u001b[1m563/563\u001b[0m \u001b[32m━━━━━━━━━━━━━━━━━━━━\u001b[0m\u001b[37m\u001b[0m \u001b[1m4s\u001b[0m 7ms/step - accuracy: 0.2039 - loss: -54833544.0000\n",
      "Epoch 25/100\n",
      "\u001b[1m563/563\u001b[0m \u001b[32m━━━━━━━━━━━━━━━━━━━━\u001b[0m\u001b[37m\u001b[0m \u001b[1m4s\u001b[0m 7ms/step - accuracy: 0.2041 - loss: -59985712.0000\n",
      "Epoch 26/100\n",
      "\u001b[1m563/563\u001b[0m \u001b[32m━━━━━━━━━━━━━━━━━━━━\u001b[0m\u001b[37m\u001b[0m \u001b[1m4s\u001b[0m 7ms/step - accuracy: 0.2031 - loss: -66606068.0000\n",
      "Epoch 27/100\n",
      "\u001b[1m563/563\u001b[0m \u001b[32m━━━━━━━━━━━━━━━━━━━━\u001b[0m\u001b[37m\u001b[0m \u001b[1m4s\u001b[0m 7ms/step - accuracy: 0.2073 - loss: -73748624.0000\n",
      "Epoch 28/100\n",
      "\u001b[1m563/563\u001b[0m \u001b[32m━━━━━━━━━━━━━━━━━━━━\u001b[0m\u001b[37m\u001b[0m \u001b[1m4s\u001b[0m 7ms/step - accuracy: 0.1959 - loss: -81277648.0000\n",
      "Epoch 29/100\n",
      "\u001b[1m563/563\u001b[0m \u001b[32m━━━━━━━━━━━━━━━━━━━━\u001b[0m\u001b[37m\u001b[0m \u001b[1m4s\u001b[0m 7ms/step - accuracy: 0.2040 - loss: -90215032.0000\n",
      "Epoch 30/100\n",
      "\u001b[1m563/563\u001b[0m \u001b[32m━━━━━━━━━━━━━━━━━━━━\u001b[0m\u001b[37m\u001b[0m \u001b[1m4s\u001b[0m 7ms/step - accuracy: 0.2034 - loss: -97564088.0000\n",
      "Epoch 31/100\n",
      "\u001b[1m563/563\u001b[0m \u001b[32m━━━━━━━━━━━━━━━━━━━━\u001b[0m\u001b[37m\u001b[0m \u001b[1m4s\u001b[0m 7ms/step - accuracy: 0.2011 - loss: -105007680.0000\n",
      "Epoch 32/100\n",
      "\u001b[1m563/563\u001b[0m \u001b[32m━━━━━━━━━━━━━━━━━━━━\u001b[0m\u001b[37m\u001b[0m \u001b[1m4s\u001b[0m 7ms/step - accuracy: 0.2024 - loss: -115367960.0000\n",
      "Epoch 33/100\n",
      "\u001b[1m563/563\u001b[0m \u001b[32m━━━━━━━━━━━━━━━━━━━━\u001b[0m\u001b[37m\u001b[0m \u001b[1m4s\u001b[0m 7ms/step - accuracy: 0.2050 - loss: -123761592.0000\n",
      "Epoch 34/100\n",
      "\u001b[1m563/563\u001b[0m \u001b[32m━━━━━━━━━━━━━━━━━━━━\u001b[0m\u001b[37m\u001b[0m \u001b[1m4s\u001b[0m 7ms/step - accuracy: 0.1999 - loss: -136387472.0000\n",
      "Epoch 35/100\n",
      "\u001b[1m563/563\u001b[0m \u001b[32m━━━━━━━━━━━━━━━━━━━━\u001b[0m\u001b[37m\u001b[0m \u001b[1m4s\u001b[0m 7ms/step - accuracy: 0.2025 - loss: -143962288.0000\n",
      "Epoch 36/100\n",
      "\u001b[1m563/563\u001b[0m \u001b[32m━━━━━━━━━━━━━━━━━━━━\u001b[0m\u001b[37m\u001b[0m \u001b[1m4s\u001b[0m 8ms/step - accuracy: 0.2086 - loss: -155263472.0000\n",
      "Epoch 37/100\n",
      "\u001b[1m563/563\u001b[0m \u001b[32m━━━━━━━━━━━━━━━━━━━━\u001b[0m\u001b[37m\u001b[0m \u001b[1m5s\u001b[0m 8ms/step - accuracy: 0.2013 - loss: -167469104.0000\n",
      "Epoch 38/100\n",
      "\u001b[1m563/563\u001b[0m \u001b[32m━━━━━━━━━━━━━━━━━━━━\u001b[0m\u001b[37m\u001b[0m \u001b[1m4s\u001b[0m 8ms/step - accuracy: 0.1986 - loss: -181806352.0000\n",
      "Epoch 39/100\n",
      "\u001b[1m563/563\u001b[0m \u001b[32m━━━━━━━━━━━━━━━━━━━━\u001b[0m\u001b[37m\u001b[0m \u001b[1m4s\u001b[0m 7ms/step - accuracy: 0.2006 - loss: -193245248.0000\n",
      "Epoch 40/100\n",
      "\u001b[1m563/563\u001b[0m \u001b[32m━━━━━━━━━━━━━━━━━━━━\u001b[0m\u001b[37m\u001b[0m \u001b[1m4s\u001b[0m 7ms/step - accuracy: 0.1991 - loss: -207493184.0000\n",
      "Epoch 41/100\n",
      "\u001b[1m563/563\u001b[0m \u001b[32m━━━━━━━━━━━━━━━━━━━━\u001b[0m\u001b[37m\u001b[0m \u001b[1m4s\u001b[0m 7ms/step - accuracy: 0.2046 - loss: -218776544.0000\n",
      "Epoch 42/100\n",
      "\u001b[1m563/563\u001b[0m \u001b[32m━━━━━━━━━━━━━━━━━━━━\u001b[0m\u001b[37m\u001b[0m \u001b[1m4s\u001b[0m 8ms/step - accuracy: 0.2051 - loss: -234847824.0000\n",
      "Epoch 43/100\n",
      "\u001b[1m563/563\u001b[0m \u001b[32m━━━━━━━━━━━━━━━━━━━━\u001b[0m\u001b[37m\u001b[0m \u001b[1m4s\u001b[0m 7ms/step - accuracy: 0.1984 - loss: -248307744.0000\n",
      "Epoch 44/100\n",
      "\u001b[1m563/563\u001b[0m \u001b[32m━━━━━━━━━━━━━━━━━━━━\u001b[0m\u001b[37m\u001b[0m \u001b[1m4s\u001b[0m 7ms/step - accuracy: 0.2022 - loss: -265234240.0000\n",
      "Epoch 45/100\n",
      "\u001b[1m563/563\u001b[0m \u001b[32m━━━━━━━━━━━━━━━━━━━━\u001b[0m\u001b[37m\u001b[0m \u001b[1m4s\u001b[0m 7ms/step - accuracy: 0.2051 - loss: -278749888.0000\n",
      "Epoch 46/100\n",
      "\u001b[1m563/563\u001b[0m \u001b[32m━━━━━━━━━━━━━━━━━━━━\u001b[0m\u001b[37m\u001b[0m \u001b[1m4s\u001b[0m 7ms/step - accuracy: 0.2051 - loss: -297702944.0000\n",
      "Epoch 47/100\n",
      "\u001b[1m563/563\u001b[0m \u001b[32m━━━━━━━━━━━━━━━━━━━━\u001b[0m\u001b[37m\u001b[0m \u001b[1m4s\u001b[0m 7ms/step - accuracy: 0.2028 - loss: -312928960.0000\n",
      "Epoch 48/100\n",
      "\u001b[1m563/563\u001b[0m \u001b[32m━━━━━━━━━━━━━━━━━━━━\u001b[0m\u001b[37m\u001b[0m \u001b[1m4s\u001b[0m 7ms/step - accuracy: 0.1996 - loss: -337408384.0000\n",
      "Epoch 49/100\n",
      "\u001b[1m563/563\u001b[0m \u001b[32m━━━━━━━━━━━━━━━━━━━━\u001b[0m\u001b[37m\u001b[0m \u001b[1m4s\u001b[0m 7ms/step - accuracy: 0.2024 - loss: -352374080.0000\n",
      "Epoch 50/100\n",
      "\u001b[1m563/563\u001b[0m \u001b[32m━━━━━━━━━━━━━━━━━━━━\u001b[0m\u001b[37m\u001b[0m \u001b[1m4s\u001b[0m 7ms/step - accuracy: 0.2027 - loss: -375365664.0000\n",
      "Epoch 51/100\n",
      "\u001b[1m563/563\u001b[0m \u001b[32m━━━━━━━━━━━━━━━━━━━━\u001b[0m\u001b[37m\u001b[0m \u001b[1m4s\u001b[0m 7ms/step - accuracy: 0.2071 - loss: -390736064.0000\n",
      "Epoch 52/100\n",
      "\u001b[1m563/563\u001b[0m \u001b[32m━━━━━━━━━━━━━━━━━━━━\u001b[0m\u001b[37m\u001b[0m \u001b[1m4s\u001b[0m 7ms/step - accuracy: 0.2081 - loss: -406478624.0000\n",
      "Epoch 53/100\n",
      "\u001b[1m563/563\u001b[0m \u001b[32m━━━━━━━━━━━━━━━━━━━━\u001b[0m\u001b[37m\u001b[0m \u001b[1m4s\u001b[0m 7ms/step - accuracy: 0.2057 - loss: -431945056.0000\n",
      "Epoch 54/100\n",
      "\u001b[1m563/563\u001b[0m \u001b[32m━━━━━━━━━━━━━━━━━━━━\u001b[0m\u001b[37m\u001b[0m \u001b[1m4s\u001b[0m 7ms/step - accuracy: 0.2017 - loss: -459624480.0000\n",
      "Epoch 55/100\n",
      "\u001b[1m563/563\u001b[0m \u001b[32m━━━━━━━━━━━━━━━━━━━━\u001b[0m\u001b[37m\u001b[0m \u001b[1m4s\u001b[0m 7ms/step - accuracy: 0.2027 - loss: -478301376.0000\n",
      "Epoch 56/100\n",
      "\u001b[1m563/563\u001b[0m \u001b[32m━━━━━━━━━━━━━━━━━━━━\u001b[0m\u001b[37m\u001b[0m \u001b[1m4s\u001b[0m 7ms/step - accuracy: 0.1978 - loss: -509478432.0000\n",
      "Epoch 57/100\n",
      "\u001b[1m563/563\u001b[0m \u001b[32m━━━━━━━━━━━━━━━━━━━━\u001b[0m\u001b[37m\u001b[0m \u001b[1m4s\u001b[0m 7ms/step - accuracy: 0.2035 - loss: -527838048.0000\n",
      "Epoch 58/100\n",
      "\u001b[1m563/563\u001b[0m \u001b[32m━━━━━━━━━━━━━━━━━━━━\u001b[0m\u001b[37m\u001b[0m \u001b[1m4s\u001b[0m 7ms/step - accuracy: 0.2056 - loss: -553710336.0000\n",
      "Epoch 59/100\n",
      "\u001b[1m563/563\u001b[0m \u001b[32m━━━━━━━━━━━━━━━━━━━━\u001b[0m\u001b[37m\u001b[0m \u001b[1m4s\u001b[0m 7ms/step - accuracy: 0.2022 - loss: -577950720.0000\n",
      "Epoch 60/100\n",
      "\u001b[1m563/563\u001b[0m \u001b[32m━━━━━━━━━━━━━━━━━━━━\u001b[0m\u001b[37m\u001b[0m \u001b[1m4s\u001b[0m 7ms/step - accuracy: 0.2066 - loss: -607586624.0000\n",
      "Epoch 61/100\n",
      "\u001b[1m563/563\u001b[0m \u001b[32m━━━━━━━━━━━━━━━━━━━━\u001b[0m\u001b[37m\u001b[0m \u001b[1m4s\u001b[0m 7ms/step - accuracy: 0.2026 - loss: -639171328.0000\n",
      "Epoch 62/100\n",
      "\u001b[1m563/563\u001b[0m \u001b[32m━━━━━━━━━━━━━━━━━━━━\u001b[0m\u001b[37m\u001b[0m \u001b[1m4s\u001b[0m 7ms/step - accuracy: 0.2062 - loss: -664474752.0000\n",
      "Epoch 63/100\n",
      "\u001b[1m563/563\u001b[0m \u001b[32m━━━━━━━━━━━━━━━━━━━━\u001b[0m\u001b[37m\u001b[0m \u001b[1m4s\u001b[0m 7ms/step - accuracy: 0.1945 - loss: -693587456.0000\n",
      "Epoch 64/100\n",
      "\u001b[1m563/563\u001b[0m \u001b[32m━━━━━━━━━━━━━━━━━━━━\u001b[0m\u001b[37m\u001b[0m \u001b[1m4s\u001b[0m 7ms/step - accuracy: 0.2026 - loss: -737337856.0000\n",
      "Epoch 65/100\n",
      "\u001b[1m563/563\u001b[0m \u001b[32m━━━━━━━━━━━━━━━━━━━━\u001b[0m\u001b[37m\u001b[0m \u001b[1m4s\u001b[0m 7ms/step - accuracy: 0.2034 - loss: -749504640.0000\n",
      "Epoch 66/100\n",
      "\u001b[1m563/563\u001b[0m \u001b[32m━━━━━━━━━━━━━━━━━━━━\u001b[0m\u001b[37m\u001b[0m \u001b[1m4s\u001b[0m 7ms/step - accuracy: 0.2000 - loss: -788368960.0000\n",
      "Epoch 67/100\n",
      "\u001b[1m563/563\u001b[0m \u001b[32m━━━━━━━━━━━━━━━━━━━━\u001b[0m\u001b[37m\u001b[0m \u001b[1m4s\u001b[0m 7ms/step - accuracy: 0.2003 - loss: -829188864.0000\n",
      "Epoch 68/100\n",
      "\u001b[1m563/563\u001b[0m \u001b[32m━━━━━━━━━━━━━━━━━━━━\u001b[0m\u001b[37m\u001b[0m \u001b[1m4s\u001b[0m 7ms/step - accuracy: 0.1997 - loss: -860599808.0000\n",
      "Epoch 69/100\n",
      "\u001b[1m563/563\u001b[0m \u001b[32m━━━━━━━━━━━━━━━━━━━━\u001b[0m\u001b[37m\u001b[0m \u001b[1m4s\u001b[0m 7ms/step - accuracy: 0.2039 - loss: -879747200.0000\n",
      "Epoch 70/100\n",
      "\u001b[1m563/563\u001b[0m \u001b[32m━━━━━━━━━━━━━━━━━━━━\u001b[0m\u001b[37m\u001b[0m \u001b[1m4s\u001b[0m 7ms/step - accuracy: 0.2095 - loss: -906911040.0000\n",
      "Epoch 71/100\n",
      "\u001b[1m563/563\u001b[0m \u001b[32m━━━━━━━━━━━━━━━━━━━━\u001b[0m\u001b[37m\u001b[0m \u001b[1m4s\u001b[0m 7ms/step - accuracy: 0.2104 - loss: -940990400.0000\n",
      "Epoch 72/100\n",
      "\u001b[1m563/563\u001b[0m \u001b[32m━━━━━━━━━━━━━━━━━━━━\u001b[0m\u001b[37m\u001b[0m \u001b[1m4s\u001b[0m 7ms/step - accuracy: 0.1985 - loss: -1010035328.0000\n",
      "Epoch 73/100\n",
      "\u001b[1m563/563\u001b[0m \u001b[32m━━━━━━━━━━━━━━━━━━━━\u001b[0m\u001b[37m\u001b[0m \u001b[1m4s\u001b[0m 7ms/step - accuracy: 0.1993 - loss: -1033168768.0000\n",
      "Epoch 74/100\n",
      "\u001b[1m563/563\u001b[0m \u001b[32m━━━━━━━━━━━━━━━━━━━━\u001b[0m\u001b[37m\u001b[0m \u001b[1m4s\u001b[0m 7ms/step - accuracy: 0.2043 - loss: -1066283264.0000\n",
      "Epoch 75/100\n",
      "\u001b[1m563/563\u001b[0m \u001b[32m━━━━━━━━━━━━━━━━━━━━\u001b[0m\u001b[37m\u001b[0m \u001b[1m4s\u001b[0m 7ms/step - accuracy: 0.2024 - loss: -1130152832.0000\n",
      "Epoch 76/100\n",
      "\u001b[1m563/563\u001b[0m \u001b[32m━━━━━━━━━━━━━━━━━━━━\u001b[0m\u001b[37m\u001b[0m \u001b[1m4s\u001b[0m 7ms/step - accuracy: 0.2037 - loss: -1155179136.0000\n",
      "Epoch 77/100\n",
      "\u001b[1m563/563\u001b[0m \u001b[32m━━━━━━━━━━━━━━━━━━━━\u001b[0m\u001b[37m\u001b[0m \u001b[1m4s\u001b[0m 7ms/step - accuracy: 0.2007 - loss: -1201823488.0000\n",
      "Epoch 78/100\n",
      "\u001b[1m563/563\u001b[0m \u001b[32m━━━━━━━━━━━━━━━━━━━━\u001b[0m\u001b[37m\u001b[0m \u001b[1m4s\u001b[0m 7ms/step - accuracy: 0.2002 - loss: -1242976896.0000\n",
      "Epoch 79/100\n",
      "\u001b[1m563/563\u001b[0m \u001b[32m━━━━━━━━━━━━━━━━━━━━\u001b[0m\u001b[37m\u001b[0m \u001b[1m4s\u001b[0m 7ms/step - accuracy: 0.2019 - loss: -1276495872.0000\n",
      "Epoch 80/100\n",
      "\u001b[1m563/563\u001b[0m \u001b[32m━━━━━━━━━━━━━━━━━━━━\u001b[0m\u001b[37m\u001b[0m \u001b[1m4s\u001b[0m 7ms/step - accuracy: 0.1996 - loss: -1321329152.0000\n",
      "Epoch 81/100\n",
      "\u001b[1m563/563\u001b[0m \u001b[32m━━━━━━━━━━━━━━━━━━━━\u001b[0m\u001b[37m\u001b[0m \u001b[1m4s\u001b[0m 7ms/step - accuracy: 0.2076 - loss: -1378054912.0000\n",
      "Epoch 82/100\n",
      "\u001b[1m563/563\u001b[0m \u001b[32m━━━━━━━━━━━━━━━━━━━━\u001b[0m\u001b[37m\u001b[0m \u001b[1m4s\u001b[0m 7ms/step - accuracy: 0.2039 - loss: -1409639936.0000\n",
      "Epoch 83/100\n",
      "\u001b[1m563/563\u001b[0m \u001b[32m━━━━━━━━━━━━━━━━━━━━\u001b[0m\u001b[37m\u001b[0m \u001b[1m4s\u001b[0m 7ms/step - accuracy: 0.2023 - loss: -1464572928.0000\n",
      "Epoch 84/100\n",
      "\u001b[1m563/563\u001b[0m \u001b[32m━━━━━━━━━━━━━━━━━━━━\u001b[0m\u001b[37m\u001b[0m \u001b[1m4s\u001b[0m 7ms/step - accuracy: 0.2060 - loss: -1509192960.0000\n",
      "Epoch 85/100\n",
      "\u001b[1m563/563\u001b[0m \u001b[32m━━━━━━━━━━━━━━━━━━━━\u001b[0m\u001b[37m\u001b[0m \u001b[1m4s\u001b[0m 7ms/step - accuracy: 0.2043 - loss: -1585201408.0000\n",
      "Epoch 86/100\n",
      "\u001b[1m563/563\u001b[0m \u001b[32m━━━━━━━━━━━━━━━━━━━━\u001b[0m\u001b[37m\u001b[0m \u001b[1m4s\u001b[0m 7ms/step - accuracy: 0.2062 - loss: -1597248128.0000\n",
      "Epoch 87/100\n",
      "\u001b[1m563/563\u001b[0m \u001b[32m━━━━━━━━━━━━━━━━━━━━\u001b[0m\u001b[37m\u001b[0m \u001b[1m4s\u001b[0m 7ms/step - accuracy: 0.2037 - loss: -1672055296.0000\n",
      "Epoch 88/100\n",
      "\u001b[1m563/563\u001b[0m \u001b[32m━━━━━━━━━━━━━━━━━━━━\u001b[0m\u001b[37m\u001b[0m \u001b[1m4s\u001b[0m 7ms/step - accuracy: 0.2064 - loss: -1706088704.0000\n",
      "Epoch 89/100\n",
      "\u001b[1m563/563\u001b[0m \u001b[32m━━━━━━━━━━━━━━━━━━━━\u001b[0m\u001b[37m\u001b[0m \u001b[1m4s\u001b[0m 7ms/step - accuracy: 0.2020 - loss: -1764087424.0000\n",
      "Epoch 90/100\n",
      "\u001b[1m563/563\u001b[0m \u001b[32m━━━━━━━━━━━━━━━━━━━━\u001b[0m\u001b[37m\u001b[0m \u001b[1m4s\u001b[0m 7ms/step - accuracy: 0.2007 - loss: -1860104960.0000\n",
      "Epoch 91/100\n",
      "\u001b[1m563/563\u001b[0m \u001b[32m━━━━━━━━━━━━━━━━━━━━\u001b[0m\u001b[37m\u001b[0m \u001b[1m4s\u001b[0m 7ms/step - accuracy: 0.2028 - loss: -1858057984.0000\n",
      "Epoch 92/100\n",
      "\u001b[1m563/563\u001b[0m \u001b[32m━━━━━━━━━━━━━━━━━━━━\u001b[0m\u001b[37m\u001b[0m \u001b[1m4s\u001b[0m 7ms/step - accuracy: 0.2000 - loss: -1961846656.0000\n",
      "Epoch 93/100\n",
      "\u001b[1m563/563\u001b[0m \u001b[32m━━━━━━━━━━━━━━━━━━━━\u001b[0m\u001b[37m\u001b[0m \u001b[1m4s\u001b[0m 7ms/step - accuracy: 0.2059 - loss: -1990333184.0000\n",
      "Epoch 94/100\n",
      "\u001b[1m563/563\u001b[0m \u001b[32m━━━━━━━━━━━━━━━━━━━━\u001b[0m\u001b[37m\u001b[0m \u001b[1m4s\u001b[0m 7ms/step - accuracy: 0.1969 - loss: -2081347072.0000\n",
      "Epoch 95/100\n",
      "\u001b[1m563/563\u001b[0m \u001b[32m━━━━━━━━━━━━━━━━━━━━\u001b[0m\u001b[37m\u001b[0m \u001b[1m4s\u001b[0m 7ms/step - accuracy: 0.2012 - loss: -2120925056.0000\n",
      "Epoch 96/100\n",
      "\u001b[1m563/563\u001b[0m \u001b[32m━━━━━━━━━━━━━━━━━━━━\u001b[0m\u001b[37m\u001b[0m \u001b[1m4s\u001b[0m 7ms/step - accuracy: 0.2022 - loss: -2216283136.0000\n",
      "Epoch 97/100\n",
      "\u001b[1m563/563\u001b[0m \u001b[32m━━━━━━━━━━━━━━━━━━━━\u001b[0m\u001b[37m\u001b[0m \u001b[1m4s\u001b[0m 7ms/step - accuracy: 0.2013 - loss: -2268613888.0000\n",
      "Epoch 98/100\n",
      "\u001b[1m563/563\u001b[0m \u001b[32m━━━━━━━━━━━━━━━━━━━━\u001b[0m\u001b[37m\u001b[0m \u001b[1m4s\u001b[0m 7ms/step - accuracy: 0.2063 - loss: -2320202496.0000\n",
      "Epoch 99/100\n",
      "\u001b[1m563/563\u001b[0m \u001b[32m━━━━━━━━━━━━━━━━━━━━\u001b[0m\u001b[37m\u001b[0m \u001b[1m4s\u001b[0m 7ms/step - accuracy: 0.2090 - loss: -2359044608.0000\n",
      "Epoch 100/100\n",
      "\u001b[1m563/563\u001b[0m \u001b[32m━━━━━━━━━━━━━━━━━━━━\u001b[0m\u001b[37m\u001b[0m \u001b[1m4s\u001b[0m 7ms/step - accuracy: 0.2031 - loss: -2428321536.0000\n"
     ]
    }
   ],
   "source": [
    "# Compile the model\n",
    "nn.compile(loss=\"binary_crossentropy\", optimizer=\"adam\", metrics=[\"accuracy\"])\n",
    "\n",
    "# Train the model\n",
    "fit_model = nn.fit(X_train_combined, y_train, epochs=100)"
   ]
  },
  {
   "cell_type": "code",
   "execution_count": 24,
   "metadata": {},
   "outputs": [
    {
     "name": "stdout",
     "output_type": "stream",
     "text": [
      "141/141 - 1s - 5ms/step - accuracy: 0.1989 - loss: -2.5223e+09\n",
      "Loss: -2522317824.0, Accuracy: 0.19893428683280945\n"
     ]
    }
   ],
   "source": [
    "# Evaluate the model using the test data\n",
    "model_loss, model_accuracy = nn.evaluate(X_test_combined,y_test,verbose=2)\n",
    "print(f\"Loss: {model_loss}, Accuracy: {model_accuracy}\")"
   ]
  },
  {
   "cell_type": "code",
   "execution_count": 25,
   "metadata": {},
   "outputs": [
    {
     "name": "stderr",
     "output_type": "stream",
     "text": [
      "WARNING:absl:You are saving your model as an HDF5 file via `model.save()` or `keras.saving.save_model(model)`. This file format is considered legacy. We recommend using instead the native Keras format, e.g. `model.save('my_model.keras')` or `keras.saving.save_model(model, 'my_model.keras')`. \n"
     ]
    }
   ],
   "source": [
    "# Export our model to HDF5 file\n",
    "nn.save('model/video_nn_model.h5')"
   ]
  }
 ],
 "metadata": {
  "kernelspec": {
   "display_name": "base",
   "language": "python",
   "name": "python3"
  },
  "language_info": {
   "codemirror_mode": {
    "name": "ipython",
    "version": 3
   },
   "file_extension": ".py",
   "mimetype": "text/x-python",
   "name": "python",
   "nbconvert_exporter": "python",
   "pygments_lexer": "ipython3",
   "version": "3.12.3"
  }
 },
 "nbformat": 4,
 "nbformat_minor": 2
}
