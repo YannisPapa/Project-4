{
 "cells": [
  {
   "cell_type": "code",
   "execution_count": 99,
   "metadata": {},
   "outputs": [],
   "source": [
    "# Import our dependencies\n",
    "import pandas as pd\n",
    "import tensorflow as tf\n",
    "import seaborn as sb\n",
    "import numpy as np\n",
    "import warnings\n",
    "import datetime as dt\n",
    "from datetime import datetime\n",
    "from matplotlib import pyplot as plt\n",
    "\n",
    "from sklearn import tree\n",
    "from sklearn.model_selection import train_test_split, cross_val_score\n",
    "from sklearn.preprocessing import StandardScaler, LabelEncoder\n",
    "from sklearn.tree import DecisionTreeRegressor\n",
    "from sklearn.ensemble import RandomForestRegressor, RandomForestClassifier\n",
    "from sklearn.metrics import confusion_matrix, accuracy_score, classification_report, mean_absolute_error, r2_score\n",
    "\n",
    "warnings.filterwarnings('ignore')\n",
    "warnings.filterwarnings('ignore', category=DeprecationWarning)"
   ]
  },
  {
   "cell_type": "code",
   "execution_count": 100,
   "metadata": {},
   "outputs": [],
   "source": [
    "# Get file path of our csv\n",
    "file_path = 'data/english_video_data.csv'"
   ]
  },
  {
   "cell_type": "code",
   "execution_count": 101,
   "metadata": {},
   "outputs": [
    {
     "data": {
      "text/html": [
       "<div>\n",
       "<style scoped>\n",
       "    .dataframe tbody tr th:only-of-type {\n",
       "        vertical-align: middle;\n",
       "    }\n",
       "\n",
       "    .dataframe tbody tr th {\n",
       "        vertical-align: top;\n",
       "    }\n",
       "\n",
       "    .dataframe thead th {\n",
       "        text-align: right;\n",
       "    }\n",
       "</style>\n",
       "<table border=\"1\" class=\"dataframe\">\n",
       "  <thead>\n",
       "    <tr style=\"text-align: right;\">\n",
       "      <th></th>\n",
       "      <th>c_channel_id</th>\n",
       "      <th>v_video_id</th>\n",
       "      <th>v_date_publishedAt</th>\n",
       "      <th>v_time_publishedAt</th>\n",
       "      <th>c_channel_title</th>\n",
       "      <th>c_channel_upload_playlist</th>\n",
       "      <th>c_channel_subCount</th>\n",
       "      <th>c_channel_videoCount</th>\n",
       "      <th>c_channel_viewCount</th>\n",
       "      <th>v_category_id</th>\n",
       "      <th>...</th>\n",
       "      <th>v_comment_count</th>\n",
       "      <th>v_likes</th>\n",
       "      <th>v_favorites</th>\n",
       "      <th>v_views</th>\n",
       "      <th>v_definition</th>\n",
       "      <th>v_duration</th>\n",
       "      <th>v_caption</th>\n",
       "      <th>v_age_restricted</th>\n",
       "      <th>v_privacy_status</th>\n",
       "      <th>v_made_for_kids</th>\n",
       "    </tr>\n",
       "  </thead>\n",
       "  <tbody>\n",
       "    <tr>\n",
       "      <th>0</th>\n",
       "      <td>UC295-Dw_tDNtZXFeAPAW6Aw</td>\n",
       "      <td>oGga7hZypCs</td>\n",
       "      <td>2024-09-02</td>\n",
       "      <td>11:00:48</td>\n",
       "      <td>5-Minute Crafts</td>\n",
       "      <td>UU295-Dw_tDNtZXFeAPAW6Aw</td>\n",
       "      <td>81100000</td>\n",
       "      <td>7445</td>\n",
       "      <td>27960945663</td>\n",
       "      <td>26</td>\n",
       "      <td>...</td>\n",
       "      <td>28</td>\n",
       "      <td>442</td>\n",
       "      <td>0</td>\n",
       "      <td>76602</td>\n",
       "      <td>hd</td>\n",
       "      <td>2:03:35</td>\n",
       "      <td>False</td>\n",
       "      <td>Not Restricted</td>\n",
       "      <td>public</td>\n",
       "      <td>False</td>\n",
       "    </tr>\n",
       "    <tr>\n",
       "      <th>1</th>\n",
       "      <td>UC295-Dw_tDNtZXFeAPAW6Aw</td>\n",
       "      <td>pkzIiXkRxB0</td>\n",
       "      <td>2024-08-30</td>\n",
       "      <td>11:00:54</td>\n",
       "      <td>5-Minute Crafts</td>\n",
       "      <td>UU295-Dw_tDNtZXFeAPAW6Aw</td>\n",
       "      <td>81100000</td>\n",
       "      <td>7445</td>\n",
       "      <td>27960945663</td>\n",
       "      <td>26</td>\n",
       "      <td>...</td>\n",
       "      <td>21</td>\n",
       "      <td>1165</td>\n",
       "      <td>0</td>\n",
       "      <td>341133</td>\n",
       "      <td>hd</td>\n",
       "      <td>2:01:48</td>\n",
       "      <td>False</td>\n",
       "      <td>Not Restricted</td>\n",
       "      <td>public</td>\n",
       "      <td>False</td>\n",
       "    </tr>\n",
       "    <tr>\n",
       "      <th>2</th>\n",
       "      <td>UC295-Dw_tDNtZXFeAPAW6Aw</td>\n",
       "      <td>TUS8vZaHNds</td>\n",
       "      <td>2024-08-31</td>\n",
       "      <td>11:00:26</td>\n",
       "      <td>5-Minute Crafts</td>\n",
       "      <td>UU295-Dw_tDNtZXFeAPAW6Aw</td>\n",
       "      <td>81100000</td>\n",
       "      <td>7445</td>\n",
       "      <td>27960945663</td>\n",
       "      <td>26</td>\n",
       "      <td>...</td>\n",
       "      <td>43</td>\n",
       "      <td>1374</td>\n",
       "      <td>0</td>\n",
       "      <td>222425</td>\n",
       "      <td>hd</td>\n",
       "      <td>1:00:04</td>\n",
       "      <td>False</td>\n",
       "      <td>Not Restricted</td>\n",
       "      <td>public</td>\n",
       "      <td>False</td>\n",
       "    </tr>\n",
       "    <tr>\n",
       "      <th>3</th>\n",
       "      <td>UC295-Dw_tDNtZXFeAPAW6Aw</td>\n",
       "      <td>rBzKTkUG3Wk</td>\n",
       "      <td>2024-08-31</td>\n",
       "      <td>13:00:57</td>\n",
       "      <td>5-Minute Crafts</td>\n",
       "      <td>UU295-Dw_tDNtZXFeAPAW6Aw</td>\n",
       "      <td>81100000</td>\n",
       "      <td>7445</td>\n",
       "      <td>27960945663</td>\n",
       "      <td>26</td>\n",
       "      <td>...</td>\n",
       "      <td>19</td>\n",
       "      <td>274</td>\n",
       "      <td>0</td>\n",
       "      <td>40821</td>\n",
       "      <td>hd</td>\n",
       "      <td>1:01:09</td>\n",
       "      <td>False</td>\n",
       "      <td>Not Restricted</td>\n",
       "      <td>public</td>\n",
       "      <td>False</td>\n",
       "    </tr>\n",
       "    <tr>\n",
       "      <th>4</th>\n",
       "      <td>UC295-Dw_tDNtZXFeAPAW6Aw</td>\n",
       "      <td>XHQP6mut8YI</td>\n",
       "      <td>2024-09-01</td>\n",
       "      <td>11:00:36</td>\n",
       "      <td>5-Minute Crafts</td>\n",
       "      <td>UU295-Dw_tDNtZXFeAPAW6Aw</td>\n",
       "      <td>81100000</td>\n",
       "      <td>7445</td>\n",
       "      <td>27960945663</td>\n",
       "      <td>26</td>\n",
       "      <td>...</td>\n",
       "      <td>27</td>\n",
       "      <td>485</td>\n",
       "      <td>0</td>\n",
       "      <td>82374</td>\n",
       "      <td>hd</td>\n",
       "      <td>0:20:16</td>\n",
       "      <td>False</td>\n",
       "      <td>Not Restricted</td>\n",
       "      <td>public</td>\n",
       "      <td>False</td>\n",
       "    </tr>\n",
       "  </tbody>\n",
       "</table>\n",
       "<p>5 rows × 23 columns</p>\n",
       "</div>"
      ],
      "text/plain": [
       "               c_channel_id   v_video_id v_date_publishedAt  \\\n",
       "0  UC295-Dw_tDNtZXFeAPAW6Aw  oGga7hZypCs         2024-09-02   \n",
       "1  UC295-Dw_tDNtZXFeAPAW6Aw  pkzIiXkRxB0         2024-08-30   \n",
       "2  UC295-Dw_tDNtZXFeAPAW6Aw  TUS8vZaHNds         2024-08-31   \n",
       "3  UC295-Dw_tDNtZXFeAPAW6Aw  rBzKTkUG3Wk         2024-08-31   \n",
       "4  UC295-Dw_tDNtZXFeAPAW6Aw  XHQP6mut8YI         2024-09-01   \n",
       "\n",
       "  v_time_publishedAt  c_channel_title c_channel_upload_playlist  \\\n",
       "0           11:00:48  5-Minute Crafts  UU295-Dw_tDNtZXFeAPAW6Aw   \n",
       "1           11:00:54  5-Minute Crafts  UU295-Dw_tDNtZXFeAPAW6Aw   \n",
       "2           11:00:26  5-Minute Crafts  UU295-Dw_tDNtZXFeAPAW6Aw   \n",
       "3           13:00:57  5-Minute Crafts  UU295-Dw_tDNtZXFeAPAW6Aw   \n",
       "4           11:00:36  5-Minute Crafts  UU295-Dw_tDNtZXFeAPAW6Aw   \n",
       "\n",
       "   c_channel_subCount  c_channel_videoCount  c_channel_viewCount  \\\n",
       "0            81100000                  7445          27960945663   \n",
       "1            81100000                  7445          27960945663   \n",
       "2            81100000                  7445          27960945663   \n",
       "3            81100000                  7445          27960945663   \n",
       "4            81100000                  7445          27960945663   \n",
       "\n",
       "   v_category_id  ... v_comment_count v_likes v_favorites  v_views  \\\n",
       "0             26  ...              28     442           0    76602   \n",
       "1             26  ...              21    1165           0   341133   \n",
       "2             26  ...              43    1374           0   222425   \n",
       "3             26  ...              19     274           0    40821   \n",
       "4             26  ...              27     485           0    82374   \n",
       "\n",
       "   v_definition  v_duration  v_caption v_age_restricted v_privacy_status  \\\n",
       "0            hd     2:03:35      False   Not Restricted           public   \n",
       "1            hd     2:01:48      False   Not Restricted           public   \n",
       "2            hd     1:00:04      False   Not Restricted           public   \n",
       "3            hd     1:01:09      False   Not Restricted           public   \n",
       "4            hd     0:20:16      False   Not Restricted           public   \n",
       "\n",
       "   v_made_for_kids  \n",
       "0            False  \n",
       "1            False  \n",
       "2            False  \n",
       "3            False  \n",
       "4            False  \n",
       "\n",
       "[5 rows x 23 columns]"
      ]
     },
     "execution_count": 101,
     "metadata": {},
     "output_type": "execute_result"
    }
   ],
   "source": [
    "# Read in the csv to a Pandas DataFrame\n",
    "videos_df = pd.read_csv(file_path)\n",
    "videos_df.head()"
   ]
  },
  {
   "cell_type": "code",
   "execution_count": 102,
   "metadata": {},
   "outputs": [
    {
     "data": {
      "text/plain": [
       "c_channel_id                   400\n",
       "v_video_id                   22516\n",
       "v_date_publishedAt             366\n",
       "v_time_publishedAt           12795\n",
       "c_channel_title                400\n",
       "c_channel_upload_playlist      400\n",
       "c_channel_subCount             350\n",
       "c_channel_videoCount           318\n",
       "c_channel_viewCount            400\n",
       "v_category_id                   15\n",
       "v_tags                        8717\n",
       "v_title                      21557\n",
       "v_description                13500\n",
       "v_comment_count                593\n",
       "v_likes                       3268\n",
       "v_favorites                      1\n",
       "v_views                      13374\n",
       "v_definition                     2\n",
       "v_duration                    3020\n",
       "v_caption                        2\n",
       "v_age_restricted                 2\n",
       "v_privacy_status                 1\n",
       "v_made_for_kids                  2\n",
       "dtype: int64"
      ]
     },
     "execution_count": 102,
     "metadata": {},
     "output_type": "execute_result"
    }
   ],
   "source": [
    "# Determine the number of unique values in each column.\n",
    "videos_df.nunique()"
   ]
  },
  {
   "cell_type": "code",
   "execution_count": 103,
   "metadata": {},
   "outputs": [],
   "source": [
    "# Drop v_favorites and v_privacy_status since they only have one value\n",
    "videos_df_2 = videos_df.drop(['v_favorites', 'v_privacy_status','c_channel_id', 'v_video_id', 'c_channel_upload_playlist'], axis=1)"
   ]
  },
  {
   "cell_type": "code",
   "execution_count": 104,
   "metadata": {},
   "outputs": [],
   "source": [
    "# converting date and time published to datetime type\n",
    "videos_df_2['v_date_publishedAt'] = videos_df_2['v_date_publishedAt'].astype('datetime64[s]')\n",
    "videos_df_2['v_time_publishedAt'] = videos_df_2['v_time_publishedAt'].astype('datetime64[s]')"
   ]
  },
  {
   "cell_type": "code",
   "execution_count": 105,
   "metadata": {},
   "outputs": [],
   "source": [
    "# splitting the date and time published into separate columns\n",
    "videos_df_2['v_year'] = videos_df_2['v_date_publishedAt'].dt.year\n",
    "videos_df_2['v_mont'] = videos_df_2['v_date_publishedAt'].dt.month\n",
    "videos_df_2['v_day'] = videos_df_2['v_date_publishedAt'].dt.day\n",
    "videos_df_2['v_hour'] = videos_df_2['v_time_publishedAt'].dt.hour\n",
    "videos_df_2['v_minute'] = videos_df_2['v_time_publishedAt'].dt.minute\n",
    "videos_df_2['v_second'] = videos_df_2['v_time_publishedAt'].dt.second"
   ]
  },
  {
   "cell_type": "code",
   "execution_count": 106,
   "metadata": {},
   "outputs": [],
   "source": [
    "# Drop 2 columns no longer needed\n",
    "videos_df_2.drop(['v_date_publishedAt', 'v_time_publishedAt'], axis=1, inplace=True)"
   ]
  },
  {
   "cell_type": "code",
   "execution_count": 107,
   "metadata": {},
   "outputs": [],
   "source": [
    "# Transforming durationg to a datetime object\n",
    "videos_df_2['v_duration_time'] = pd.to_timedelta(videos_df_2['v_duration'])"
   ]
  },
  {
   "cell_type": "code",
   "execution_count": 108,
   "metadata": {},
   "outputs": [],
   "source": [
    "# converting the duration into total seconds\n",
    "videos_df_2['v_duration_time'] = videos_df_2['v_duration_time'].dt.total_seconds()\n",
    "\n",
    "# drop the old duration column\n",
    "videos_df_2.drop(['v_duration'], axis=1, inplace=True)"
   ]
  },
  {
   "cell_type": "code",
   "execution_count": 109,
   "metadata": {},
   "outputs": [],
   "source": [
    "# Copy the data frame\n",
    "videos_df_cats = videos_df_2.copy()"
   ]
  },
  {
   "cell_type": "code",
   "execution_count": 110,
   "metadata": {},
   "outputs": [
    {
     "data": {
      "text/plain": [
       "v_category_id\n",
       "26    14635\n",
       "22     2299\n",
       "24     1502\n",
       "2      1370\n",
       "27      996\n",
       "28      931\n",
       "1       290\n",
       "20      213\n",
       "19       78\n",
       "29       64\n",
       "17       61\n",
       "25       58\n",
       "15       11\n",
       "10        5\n",
       "23        3\n",
       "Name: count, dtype: int64"
      ]
     },
     "execution_count": 110,
     "metadata": {},
     "output_type": "execute_result"
    }
   ],
   "source": [
    "# Check how many different categgory id's we have\n",
    "videos_df_cats['v_category_id'].value_counts()"
   ]
  },
  {
   "cell_type": "code",
   "execution_count": 111,
   "metadata": {},
   "outputs": [],
   "source": [
    "# Creat a dictionary of all the diferent category id's\n",
    "categories = {\n",
    "    1: \"Film & Animation\",\n",
    "    2: \"Autos & Vehicles\",\n",
    "    10: \"Music\",\n",
    "    15: \"Pets & Animals\",\n",
    "    17: \"Sports\",\n",
    "    18: \"Short Movies\",\n",
    "    19: \"Travel & Events\",\n",
    "    20: \"Gaming\",\n",
    "    21: \"Videoblogging\",\n",
    "    22: \"People & Blogs\",\n",
    "    23: \"Comedy\",\n",
    "    24: \"Entertainment\",\n",
    "    25: \"News & Politics\",\n",
    "    26: \"Howto & Style\",\n",
    "    27: \"Education\",\n",
    "    28: \"Science & Technology\",\n",
    "    29: \"Nonprofits & Activism\",\n",
    "    30: \"Movies\",\n",
    "    31: \"Anime/Animation\",\n",
    "    32: \"Action/Adventure\",\n",
    "    33: \"Classics\",\n",
    "    34: \"Comedy\",\n",
    "    35: \"Documentary\",\n",
    "    36: \"Drama\",\n",
    "    37: \"Family\",\n",
    "    38: \"Foreign\",\n",
    "    39: \"Horror\",\n",
    "    40: \"Sci-Fi/Fantasy\",\n",
    "    41: \"Thriller\",\n",
    "    42: \"Shorts\",\n",
    "    43: \"Shows\",\n",
    "    44: \"Trailers\"\n",
    "}"
   ]
  },
  {
   "cell_type": "code",
   "execution_count": 112,
   "metadata": {},
   "outputs": [],
   "source": [
    "# A function that can be used to replace a dategory id with its category name\n",
    "def name_categories(df, category_dict):\n",
    "    for index, row in df.iterrows():\n",
    "        if row['v_category_id'] in [23, 10, 17, 15, 19]:\n",
    "            df.at[index, 'v_category_id'] = \"other\"\n",
    "        elif row['v_category_id'] in category_dict:\n",
    "            df.at[index, 'v_category_id'] = category_dict[row['v_category_id']]\n",
    "\n",
    "    return df\n"
   ]
  },
  {
   "cell_type": "code",
   "execution_count": 113,
   "metadata": {},
   "outputs": [],
   "source": [
    "# Use function name_categories to change data to the actual 'v_category_id' name\n",
    "videos_df_cats = name_categories(videos_df_cats, categories)"
   ]
  },
  {
   "cell_type": "markdown",
   "metadata": {},
   "source": [
    "## Messing with tags"
   ]
  },
  {
   "cell_type": "code",
   "execution_count": 114,
   "metadata": {},
   "outputs": [],
   "source": [
    "# R² Score: 0.6714833327132073 (with column cut 3 and no buckets for channel viewcount)\n",
    "# A function used to expand tags into multiple unique columns, then gives a 0 or 1 based on if that row had that tag\n",
    "def expand_tags(df, column_name):\n",
    "    all_tags = set(tag for tags in df[column_name] for tag in tags)\n",
    "    for tag in all_tags:\n",
    "        col_name = f'v_tag_{tag}'\n",
    "        df[col_name] = df[column_name].apply(lambda tags: 1 if tag in tags else 0)\n",
    "    \n",
    "    return df\n",
    "\n",
    "# Use the function expand_tags to break each tag into its own column\n",
    "video_df_tags = expand_tags(videos_df_cats,'v_tags')"
   ]
  },
  {
   "cell_type": "code",
   "execution_count": 115,
   "metadata": {},
   "outputs": [],
   "source": [
    "# # R² Score: 0.6638668962231091 (with column cut 3 and no buckets for channel viewcount)\n",
    "# from collections import Counter\n",
    "# import re\n",
    "\n",
    "# # Combine all text into a single string\n",
    "# all_tags = ','.join(videos_df_cats['v_tags'])\n",
    "\n",
    "# # Split the text into words and convert to lowercase\n",
    "# tags = all_tags.lower().split(',')\n",
    "\n",
    "# # Count the frequency of each word\n",
    "# tags_counts = Counter(tags)\n",
    "\n",
    "# # Get the most common words\n",
    "# top_tags = tags_counts.most_common(1000)  # Get top 1000 words\n",
    "\n",
    "# # Process the list to extract the words only\n",
    "# popular_tags = [re.sub(r\"[^a-zA-Z0-9\\s]\", \"\", item[0]).strip() for item in top_tags if re.sub(r\"[^a-zA-Z0-9\\s]\", \"\", item[0]).strip()]\n",
    "\n",
    "# def split_tags_into_columns(df, tags_list):\n",
    "#     df['v_tags'] = df['v_tags'].apply(lambda x: x if isinstance(x, list) else [])\n",
    "#     for tag in tags_list:\n",
    "#         column_name = f'v_tag_{tag}'\n",
    "#         df[column_name] = df['v_tags'].apply(lambda tags: 1 if tag in tags else 0)\n",
    "\n",
    "#     return df\n",
    "\n",
    "# video_df_tags = split_tags_into_columns(videos_df_cats, popular_tags)"
   ]
  },
  {
   "cell_type": "code",
   "execution_count": 116,
   "metadata": {},
   "outputs": [],
   "source": [
    "# # R² Score: 0.6645239430214959 (with column cut 3 and no buckets for channel viewcount)\n",
    "# from collections import Counter\n",
    "# import re\n",
    "\n",
    "# # Combine all text into a single string\n",
    "# all_tags = ','.join(videos_df_cats['v_tags'])\n",
    "\n",
    "# # Split the text into words and convert to lowercase\n",
    "# tags = all_tags.lower().split(',')\n",
    "\n",
    "# # Count the frequency of each word\n",
    "# tags_counts = Counter(tags)\n",
    "\n",
    "# # Get the most common words\n",
    "# top_tags = tags_counts.most_common(100)  # Get top 100 words\n",
    "\n",
    "# # Process the list to extract the words only\n",
    "# popular_tags = [re.sub(r\"[^a-zA-Z0-9\\s]\", \"\", item[0]).strip() for item in top_tags if re.sub(r\"[^a-zA-Z0-9\\s]\", \"\", item[0]).strip()]\n",
    "\n",
    "# def split_tags_into_columns(df, tags_list):\n",
    "#     df['v_tags'] = df['v_tags'].apply(lambda x: x if isinstance(x, list) else [])\n",
    "#     for tag in tags_list:\n",
    "#         column_name = f'v_tag_{tag}'\n",
    "#         df[column_name] = df['v_tags'].apply(lambda tags: 1 if tag in tags else 0)\n",
    "\n",
    "#     return df\n",
    "\n",
    "# video_df_tags = split_tags_into_columns(videos_df_cats, popular_tags)"
   ]
  },
  {
   "cell_type": "markdown",
   "metadata": {},
   "source": [
    "## Messing with different bucketing"
   ]
  },
  {
   "cell_type": "code",
   "execution_count": 117,
   "metadata": {},
   "outputs": [],
   "source": [
    "# # R² Score: 0.6617587513624208 (with column cut 3)\n",
    "\n",
    "# # Used to bucket channel viewcount\n",
    "# def bucketize_channel_viewcount(df, column, bins=10):\n",
    "#     df = df.copy()\n",
    "\n",
    "#     bin_ranges, bin_labels = pd.qcut(df[column], q=bins, retbins=True, duplicates='drop')\n",
    "\n",
    "#     labels = [f\"Bucket {i+1} ({int(bin_labels[i])}-{int(bin_labels[i+1])})\" for i in range(len(bin_labels)-1)]\n",
    "\n",
    "#     df[f\"{column}_bucket\"] = pd.qcut(df[column], q=bins, labels=labels, duplicates='drop')\n",
    "\n",
    "#     return df\n",
    "\n",
    "# video_df_tags = bucketize_channel_viewcount(video_df_tags, 'c_channel_viewCount', bins=10)\n",
    "# video_df_tags.drop(columns=['c_channel_viewCount'], axis=1, inplace =True)\n",
    "# video_df_tags['c_channel_viewCount_bucket'].value_counts()"
   ]
  },
  {
   "cell_type": "code",
   "execution_count": 118,
   "metadata": {},
   "outputs": [],
   "source": [
    "# # R² Score: 0.6582374302189562 (with column cut 3)\n",
    "\n",
    "# # A function used to bucked video viewcount for each video into the appropriate bucket\n",
    "# def bucketize_channel_viewcount(df, column_name):\n",
    "#     bins = [-1, 1_000, 10_000, 100_000, 1_000_000, 10_000_000, 100_000_000, 1_000_000_000, 10_000_000_000, 28_000_000_000]\n",
    "#     labels = [\n",
    "#         \"Very Low (0 - 1K)\",\n",
    "#         \"Low (1K - 10K)\",\n",
    "#         \"Moderate (10K - 100K)\",\n",
    "#         \"Growing (100K - 1M)\",\n",
    "#         \"Established (1M - 10M)\",\n",
    "#         \"Popular (10M - 100M)\",\n",
    "#         \"Trending (100M - 1B)\",\n",
    "#         \"Viral (1B - 10B)\",\n",
    "#         \"Mega Viral (10B+)\"\n",
    "#     ]\n",
    "#     df[\"c_channel_viewCount_bucket\"] = pd.cut(df[column_name], bins=bins, labels=labels, right=True)\n",
    "    \n",
    "#     return df\n",
    "\n",
    "# # Use the function bucket_views to bucket each video viewcount\n",
    "# bucket_video_df = bucketize_channel_viewcount(video_df_tags, 'c_channel_viewCount')\n",
    "# bucket_video_df.drop(columns=['c_channel_viewCount'], axis=1, inplace =True)\n",
    "# bucket_video_df['c_channel_viewCount_bucket'].value_counts()"
   ]
  },
  {
   "cell_type": "code",
   "execution_count": 119,
   "metadata": {},
   "outputs": [],
   "source": [
    "# # going to bucket subscriber coutn and channel video count"
   ]
  },
  {
   "cell_type": "markdown",
   "metadata": {},
   "source": [
    "## Bucketing video viewcount for Random Forest output"
   ]
  },
  {
   "cell_type": "code",
   "execution_count": 120,
   "metadata": {},
   "outputs": [
    {
     "data": {
      "text/plain": [
       "view_bucket\n",
       "Low (1K - 5K)               6825\n",
       "Very Low (0 - 1K)           5072\n",
       "Growing (10K - 50K)         4546\n",
       "Moderate (5K - 10K)         3334\n",
       "Popular (100K - 500K)       1235\n",
       "Established (50K - 100K)    1039\n",
       "Viral (1M+)                  251\n",
       "Trending (500K - 1M)         214\n",
       "Name: count, dtype: int64"
      ]
     },
     "execution_count": 120,
     "metadata": {},
     "output_type": "execute_result"
    }
   ],
   "source": [
    "# A function used to bucked video viewcount for each video into the appropriate bucket\n",
    "def bucket_views(df, column_name):\n",
    "    # Some Buckets\n",
    "    # bins = [-1, 1000, 10000, 100000, 1000000, float(\"inf\")]\n",
    "    # labels = [\"Very Low (0-1,000)\", \"Low (1,000-10,000)\", \"Medium (10,000-100,000)\", \"High (100,000-1,000,000)\", \"Very High (1,000,000+)\"]\n",
    "    # More Buckets\n",
    "    bins = [-1, 1000, 5000, 10000, 50000, 100000, 500000, 1000000, float(\"inf\")]\n",
    "    labels = [\n",
    "        \"Very Low (0 - 1K)\",\n",
    "        \"Low (1K - 5K)\",\n",
    "        \"Moderate (5K - 10K)\",\n",
    "        \"Growing (10K - 50K)\",\n",
    "        \"Established (50K - 100K)\",\n",
    "        \"Popular (100K - 500K)\",\n",
    "        \"Trending (500K - 1M)\",\n",
    "        \"Viral (1M+)\"\n",
    "    ]\n",
    "    # Most Buckets\n",
    "    # bins = [-1, 500, 1000, 5000, 10000, 25000, 50000, 100000, 250000, 500000, 1000000, 5000000, float(\"inf\")]\n",
    "    # labels = [\n",
    "    #     \"Very Low (0 - 500)\",\n",
    "    #     \"Low (500 - 1K)\",\n",
    "    #     \"Moderate (1K - 5K)\",\n",
    "    #     \"Growing (5K - 10K)\",\n",
    "    #     \"Established (10K - 25K)\",\n",
    "    #     \"Popular (25K - 50K)\",\n",
    "    #     \"Trending (50K - 100K)\",\n",
    "    #     \"Well Known (100K - 250K)\",\n",
    "    #     \"Famous (250K - 500K)\",\n",
    "    #     \"Viral (500K - 1M)\",\n",
    "    #     \"Superstar (1M - 5M)\",\n",
    "    #     \"Mega Viral (5M+)\"\n",
    "    # ]\n",
    "    df[\"view_bucket\"] = pd.cut(df[column_name], bins=bins, labels=labels, right=True)\n",
    "    \n",
    "    return df\n",
    "\n",
    "# Use the function bucket_views to bucket each video viewcount\n",
    "bucket_video_df = bucket_views(video_df_tags, 'v_views')\n",
    "bucket_video_df.drop(columns=['v_views'], axis=1, inplace =True)\n",
    "bucket_video_df['view_bucket'].value_counts()"
   ]
  },
  {
   "cell_type": "markdown",
   "metadata": {},
   "source": [
    "## Trying cutting out different columns"
   ]
  },
  {
   "cell_type": "code",
   "execution_count": 121,
   "metadata": {},
   "outputs": [],
   "source": [
    "# randomize the order of the dataframe\n",
    "bucket_video_df = bucket_video_df.sample(frac=1, random_state=42).reset_index(drop=True)"
   ]
  },
  {
   "cell_type": "code",
   "execution_count": 122,
   "metadata": {},
   "outputs": [],
   "source": [
    "# # Column cut 1\n",
    "# # R² Score: ~0.669044272100044 (with no bucketing except for output)\n",
    "\n",
    "# # Use get dummies to make sure our data can be used in the ML model\n",
    "# videos_df_dummies = pd.get_dummies(data= bucket_video_df, columns=['v_category_id','v_definition','v_caption','v_age_restricted','v_made_for_kids'],dtype=int)\n",
    "\n",
    "# # use label encoder to change out buckets from strings to diggits so the ML model can use it\n",
    "# encoder = LabelEncoder()\n",
    "# videos_df_dummies[\"view_bucket_encoded\"] = encoder.fit_transform(videos_df_dummies[\"view_bucket\"])\n",
    "\n",
    "# # Drop some un needed columns that have text or are just not needed\n",
    "# videos_df_dummies.drop(columns=['v_tags','v_title','v_description','c_channel_title','view_bucket'], axis=1, inplace =True)"
   ]
  },
  {
   "cell_type": "code",
   "execution_count": 123,
   "metadata": {},
   "outputs": [],
   "source": [
    "# # Column cut 2\n",
    "# # R² Score: ~0.6682990051378332 (with no bucketing except for output)\n",
    "\n",
    "# # Use get dummies to make sure our data can be used in the ML model\n",
    "# videos_df_dummies = pd.get_dummies(data= bucket_video_df, columns=['v_category_id'],dtype=int)\n",
    "\n",
    "# # use label encoder to change out buckets from strings to diggits so the ML model can use it\n",
    "# encoder = LabelEncoder()\n",
    "# videos_df_dummies[\"video_views_bucket_encoded\"] = encoder.fit_transform(videos_df_dummies[\"view_bucket\"])\n",
    "\n",
    "# # Drop some un needed columns that have text or are just not needed\n",
    "# videos_df_dummies.drop(columns=['v_tags','v_title','v_description','c_channel_title','view_bucket','v_definition','v_caption','v_age_restricted','v_made_for_kids'], axis=1, inplace =True)"
   ]
  },
  {
   "cell_type": "code",
   "execution_count": 124,
   "metadata": {},
   "outputs": [],
   "source": [
    "# Column cut 3\n",
    "# R² Score: 0.6714833327132073 (with no bucketing except for output but some buckets)\n",
    "# R² Score: 0.6792498433603842 (with no bucketing except for output but more buckets)\n",
    "# R² Score: 0.5187405197962076 (with no bucketing except for output but most buckets)\n",
    "\n",
    "# Use get dummies to make sure our data can be used in the ML model\n",
    "videos_df_dummies = pd.get_dummies(data= bucket_video_df, columns=['v_category_id'],dtype=int)\n",
    "\n",
    "# use label encoder to change out buckets from strings to diggits so the ML model can use it\n",
    "encoder = LabelEncoder()\n",
    "videos_df_dummies[\"video_views_bucket_encoded\"] = encoder.fit_transform(videos_df_dummies[\"view_bucket\"])\n",
    "#videos_df_dummies[\"channel_views_bucket_encoded\"] = encoder.fit_transform(videos_df_dummies[\"c_channel_viewCount_bucket\"])\n",
    "\n",
    "# Drop some un needed columns that have text or are just not needed\n",
    "# videos_df_dummies.drop(columns=[\n",
    "#     'v_tags','v_title','v_description','c_channel_title','view_bucket','v_definition','v_caption','v_age_restricted','v_made_for_kids',\n",
    "#     'v_year','v_mont','v_day','v_hour','v_minute','v_second','c_channel_viewCount_bucket'\n",
    "#     ], axis=1, inplace =True)\n",
    "\n",
    "videos_df_dummies.drop(columns=[\n",
    "    'v_tags','v_title','v_description','c_channel_title','view_bucket','v_definition','v_caption','v_age_restricted','v_made_for_kids',\n",
    "    'v_year','v_mont','v_day','v_hour','v_minute','v_second'\n",
    "    ], axis=1, inplace =True)"
   ]
  },
  {
   "cell_type": "code",
   "execution_count": 125,
   "metadata": {},
   "outputs": [],
   "source": [
    "# # Column cut 4\n",
    "# # R² Score: ~0.671027915566464 (with no bucketing except for output)\n",
    "\n",
    "# # Use get dummies to make sure our data can be used in the ML model\n",
    "# videos_df_dummies = pd.get_dummies(data= bucket_video_df, columns=['v_category_id','v_definition','v_caption','v_age_restricted','v_made_for_kids'],dtype=int)\n",
    "\n",
    "# # use label encoder to change out buckets from strings to diggits so the ML model can use it\n",
    "# encoder = LabelEncoder()\n",
    "# videos_df_dummies[\"video_views_bucket_encoded\"] = encoder.fit_transform(videos_df_dummies[\"view_bucket\"])\n",
    "\n",
    "# # Drop some un needed columns that have text or are just not needed\n",
    "# videos_df_dummies.drop(columns=[\n",
    "#     'v_tags','v_title','v_description','c_channel_title','view_bucket','v_views',\n",
    "#     'v_year','v_mont','v_day','v_hour','v_minute','v_second'\n",
    "#     ], axis=1, inplace =True)"
   ]
  },
  {
   "cell_type": "markdown",
   "metadata": {},
   "source": [
    "## Building the Random Forest Model"
   ]
  },
  {
   "cell_type": "code",
   "execution_count": 128,
   "metadata": {},
   "outputs": [],
   "source": [
    "# Split our preprocessed data into our features and target arrays\n",
    "y = videos_df_dummies['video_views_bucket_encoded'].values\n",
    "X = videos_df_dummies.drop(columns=['video_views_bucket_encoded']).values"
   ]
  },
  {
   "cell_type": "code",
   "execution_count": 67,
   "metadata": {},
   "outputs": [],
   "source": [
    "# Split the preprocessed data into a training and testing dataset\n",
    "X_train, X_test, y_train, y_test = train_test_split(X,y,test_size=0.2,random_state=42) #train_test_split(X, y,random_state=42)"
   ]
  },
  {
   "cell_type": "code",
   "execution_count": 68,
   "metadata": {},
   "outputs": [],
   "source": [
    "# Create the StandardScaler instance\n",
    "scaler = StandardScaler()"
   ]
  },
  {
   "cell_type": "code",
   "execution_count": 69,
   "metadata": {},
   "outputs": [],
   "source": [
    "# Fit the Standard Scaler with the training data\n",
    "X_scaler = scaler.fit(X_train)"
   ]
  },
  {
   "cell_type": "code",
   "execution_count": 33,
   "metadata": {},
   "outputs": [],
   "source": [
    "# Scale the training data\n",
    "X_train_scaled = X_scaler.transform(X_train)\n",
    "X_test_scaled = X_scaler.transform(X_test)"
   ]
  },
  {
   "cell_type": "code",
   "execution_count": 34,
   "metadata": {},
   "outputs": [],
   "source": [
    "# Create the random forest classifier instance\n",
    "#rf_model = RandomForestClassifier(n_estimators=500, random_state=42)\n",
    "rf_model = RandomForestRegressor(n_estimators=500, random_state=42) #RandomForestRegressor(n_estimators=100, max_depth=10, random_state=42)"
   ]
  },
  {
   "cell_type": "code",
   "execution_count": 35,
   "metadata": {},
   "outputs": [],
   "source": [
    "# Fit the model\n",
    "rf_model = rf_model.fit(X_train_scaled, y_train)"
   ]
  },
  {
   "cell_type": "code",
   "execution_count": 36,
   "metadata": {},
   "outputs": [],
   "source": [
    "# Making predictions using the testing data\n",
    "y_pred = rf_model.predict(X_test_scaled)"
   ]
  },
  {
   "cell_type": "code",
   "execution_count": 37,
   "metadata": {},
   "outputs": [
    {
     "name": "stdout",
     "output_type": "stream",
     "text": [
      "R² Score: 0.6699960243678691\n"
     ]
    }
   ],
   "source": [
    "# Calculate and Print our R²\n",
    "r2 = r2_score(y_test, y_pred)\n",
    "print(f\"R² Score: {r2}\")"
   ]
  },
  {
   "cell_type": "code",
   "execution_count": 38,
   "metadata": {},
   "outputs": [
    {
     "data": {
      "image/png": "[encoded data removed]",
      "text/plain": [
       "<Figure size 1000x600 with 1 Axes>"
      ]
     },
     "metadata": {},
     "output_type": "display_data"
    }
   ],
   "source": [
    "importances = rf_model.feature_importances_\n",
    "\n",
    "feature_names = videos_df_dummies.drop(columns=['video_views_bucket_encoded']).columns\n",
    "\n",
    "indices = np.argsort(importances)[::-1]\n",
    "\n",
    "top_10_indices = indices[:20]\n",
    "#bottom_10_indices = indices[-10:]\n",
    "\n",
    "#combined_indices = np.concatenate([top_10_indices, bottom_10_indices])\n",
    "combined_indices = top_10_indices\n",
    "\n",
    "combined_feature_names = [feature_names[i] for i in combined_indices]\n",
    "combined_importances = importances[combined_indices]\n",
    "\n",
    "plt.figure(figsize=(10,6))\n",
    "plt.title(\"Top 20 Feature Importance\")\n",
    "plt.bar(range(len(combined_importances)), combined_importances, align=\"center\")\n",
    "plt.xticks(range(len(combined_importances)), combined_feature_names, rotation=90)\n",
    "plt.show()"
   ]
  }
 ],
 "metadata": {
  "kernelspec": {
   "display_name": "base",
   "language": "python",
   "name": "python3"
  },
  "language_info": {
   "codemirror_mode": {
    "name": "ipython",
    "version": 3
   },
   "file_extension": ".py",
   "mimetype": "text/x-python",
   "name": "python",
   "nbconvert_exporter": "python",
   "pygments_lexer": "ipython3",
   "version": "3.12.3"
  }
 },
 "nbformat": 4,
 "nbformat_minor": 2
}
