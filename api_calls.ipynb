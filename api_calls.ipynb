{
 "cells": [
  {
   "cell_type": "code",
   "execution_count": 2,
   "metadata": {},
   "outputs": [],
   "source": [
    "# Import necessary modules\n",
    "import matplotlib.pyplot as plt\n",
    "import matplotlib.dates as mdates\n",
    "import pandas as pd\n",
    "import numpy as np\n",
    "import requests\n",
    "import time\n",
    "from datetime import datetime\n",
    "from pprint import pprint\n",
    "import json\n",
    "\n",
    "import googleapiclient.discovery\n",
    "from config import api_key\n",
    "\n",
    "# Define API Key (Replace with your API key)\n",
    "API_KEY = api_key\n",
    "max_results = 50\n",
    "\n",
    "# Initialize YouTube API client\n",
    "youtube = googleapiclient.discovery.build(\"youtube\", \"v3\", developerKey=API_KEY)"
   ]
  },
  {
   "cell_type": "code",
   "execution_count": 4,
   "metadata": {},
   "outputs": [],
   "source": [
    "# for a video part=\"snippet,statistics,contentDetails,status,topicDetails,player,liveStreamingDetails\"\n",
    "# for a channel part=\"snippet,statistics,contentDetails,brandingSettings,topicDetails,status\"\n",
    "def fetch_all_channels(query, max_results=50):\n",
    "    next_page_token = None\n",
    "    all_channels = []\n",
    "\n",
    "    while True:\n",
    "        request = youtube.search().list(\n",
    "            part=\"snippet\",\n",
    "            q=query,\n",
    "            type=\"channel\",\n",
    "            maxResults=max_results,\n",
    "            order=\"date\",\n",
    "            pageToken=next_page_token \n",
    "        )\n",
    "        response = request.execute()\n",
    "\n",
    "        all_channels.extend(response.get(\"items\", []))\n",
    "        \n",
    "        next_page_token = response.get(\"nextPageToken\")\n",
    "        if not next_page_token:\n",
    "            break\n",
    "\n",
    "    return all_channels"
   ]
  },
  {
   "cell_type": "code",
   "execution_count": 5,
   "metadata": {},
   "outputs": [],
   "source": [
    "channels = fetch_all_channels(\"DIY\")"
   ]
  },
  {
   "cell_type": "code",
   "execution_count": null,
   "metadata": {},
   "outputs": [],
   "source": [
    "print(f\"Total channels retrieved: {len(channels)}\")"
   ]
  },
  {
   "cell_type": "code",
   "execution_count": 9,
   "metadata": {},
   "outputs": [],
   "source": [
    "# for a video part=\"snippet,statistics,contentDetails,status,topicDetails,player,liveStreamingDetails\"\n",
    "# for a channel part=\"snippet,statistics,contentDetails,brandingSettings,topicDetails,status\"\n",
    "def fetch_all_channels_data(channel_list_id, max_results=50):\n",
    "    all_channels_data = []\n",
    "    batch_size = 50  # Max allowed per API call\n",
    "    \n",
    "    # Grouping channel IDs into batches of 50\n",
    "    for i in range(0, len(channel_list_id), batch_size):\n",
    "        batch_ids = [channel_info['id']['channelId'] for channel_info in channel_list_id[i:i + batch_size]]\n",
    "        \n",
    "        # Fetch channel data in batches of 50\n",
    "        request = youtube.channels().list(\n",
    "            part=\"snippet,statistics,contentDetails,brandingSettings,topicDetails,status\",\n",
    "            id=\",\".join(batch_ids)  # Multiple channel IDs separated by commas\n",
    "        )\n",
    "        response = request.execute()\n",
    "\n",
    "        # Collect all channel data\n",
    "        all_channels_data.extend(response.get(\"items\", []))\n",
    "\n",
    "    return all_channels_data"
   ]
  },
  {
   "cell_type": "code",
   "execution_count": 10,
   "metadata": {},
   "outputs": [],
   "source": [
    "channels_data = fetch_all_channels_data(channels)"
   ]
  },
  {
   "cell_type": "code",
   "execution_count": 15,
   "metadata": {},
   "outputs": [],
   "source": [
    "# Write the json data pulled for channels to a file\n",
    "filename = 'data/channels.json'\n",
    "with open(filename, 'w') as file:\n",
    "    json.dump(channels, file, indent=4)"
   ]
  },
  {
   "cell_type": "code",
   "execution_count": 16,
   "metadata": {},
   "outputs": [],
   "source": [
    "# Write the json data pulled for channels_data to a file\n",
    "filename = 'data/channels_data.json'\n",
    "with open(filename, 'w') as file:\n",
    "    json.dump(channels_data, file, indent=4)"
   ]
  },
  {
   "cell_type": "code",
   "execution_count": null,
   "metadata": {},
   "outputs": [],
   "source": [
    "filename = 'data/channels.json'\n",
    "with open(filename, 'r') as file:\n",
    "    channels = json.load(file)"
   ]
  },
  {
   "cell_type": "code",
   "execution_count": null,
   "metadata": {},
   "outputs": [],
   "source": [
    "filename = 'data/channels_data.json'\n",
    "with open(filename, 'r') as file:\n",
    "    channels_data = json.load(file)"
   ]
  },
  {
   "cell_type": "code",
   "execution_count": 11,
   "metadata": {},
   "outputs": [],
   "source": [
    "channel_list = []\n",
    "for channel in channels_data:\n",
    "    channel_title = channel['brandingSettings']['channel']['title'] # get channel title\n",
    "    channel_id = channel['id'] # get channel id\n",
    "    try:\n",
    "        channel_subCount = channel['statistics']['subscriberCount'] # get channel subscriber count, if it fails ...\n",
    "    except KeyError:\n",
    "        channel_subCount = '???' # set subscriber count to ???\n",
    "    channel_videoCount = channel['statistics']['videoCount'] # get channel video count\n",
    "    channel_viewCount = channel['statistics']['viewCount'] # get channel view count\n",
    "\n",
    "    # Build a dictionary for the channel and add it to the list\n",
    "    channel_list.append({'channel_title':channel_title,\n",
    "                            'channel_id':channel_id,\n",
    "                            'channel_subCount':channel_subCount,\n",
    "                            'channel_videoCount':channel_videoCount,\n",
    "                            'channel_viewCount':channel_viewCount})\n",
    "\n",
    "# Create a DF from list\n",
    "channel_data_df = pd.DataFrame(channel_list)\n",
    "channel_data_df = channel_data_df.set_index('channel_id')"
   ]
  },
  {
   "cell_type": "code",
   "execution_count": null,
   "metadata": {},
   "outputs": [],
   "source": [
    "channel_data_df.dtypes"
   ]
  },
  {
   "cell_type": "code",
   "execution_count": 13,
   "metadata": {},
   "outputs": [],
   "source": [
    "channel_data_df['channel_subCount'] = channel_data_df['channel_subCount'].astype('int64')\n",
    "channel_data_df['channel_videoCount'] = channel_data_df['channel_videoCount'].astype('int64')\n",
    "channel_data_df['channel_viewCount'] = channel_data_df['channel_viewCount'].astype('int64')"
   ]
  },
  {
   "cell_type": "code",
   "execution_count": null,
   "metadata": {},
   "outputs": [],
   "source": [
    "channel_data_df.sort_values('channel_subCount',ascending=False).head(50)"
   ]
  }
 ],
 "metadata": {
  "kernelspec": {
   "display_name": "base",
   "language": "python",
   "name": "python3"
  },
  "language_info": {
   "codemirror_mode": {
    "name": "ipython",
    "version": 3
   },
   "file_extension": ".py",
   "mimetype": "text/x-python",
   "name": "python",
   "nbconvert_exporter": "python",
   "pygments_lexer": "ipython3",
   "version": "3.12.3"
  }
 },
 "nbformat": 4,
 "nbformat_minor": 2
}
