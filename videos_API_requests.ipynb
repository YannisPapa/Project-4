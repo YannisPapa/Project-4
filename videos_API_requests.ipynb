{
 "cells": [
  {
   "cell_type": "code",
   "execution_count": 22,
   "metadata": {},
   "outputs": [],
   "source": [
    "import requests\n",
    "import googleapiclient.discovery\n",
    "import googleapiclient.errors\n",
    "import json\n",
    "from config import youtube_key\n"
   ]
  },
  {
   "cell_type": "code",
   "execution_count": 24,
   "metadata": {},
   "outputs": [],
   "source": [
    "API_KEY = youtube_key\n",
    "CATEGORY_ID = '28'  # DIY category\n",
    "START_DATE = '2024-01-02T00:00:00Z'\n",
    "END_DATE = '2024-01-31T23:59:59Z'\n",
    "BASE_URL = 'https://www.googleapis.com/youtube/v3/search'\n"
   ]
  },
  {
   "cell_type": "code",
   "execution_count": 25,
   "metadata": {},
   "outputs": [],
   "source": [
    "def get_video_ids(api_key, category_id, start_date, end_date):\n",
    "    video_ids = []\n",
    "    url = f\"{BASE_URL}?part=snippet&publishedAfter={start_date}&publishedBefore={end_date}&videoCategoryId={category_id}&type=video&key={api_key}\"\n",
    "\n",
    "    while url:\n",
    "        response = requests.get(url)\n",
    "        data = response.json()\n",
    "\n",
    "        for item in data.get('items', []):\n",
    "            video_ids.append(item['id']['videoId'])\n",
    "\n",
    "        # Check for the next page\n",
    "        url = data.get('nextPageToken')\n",
    "        if url:\n",
    "            url = f\"{BASE_URL}?part=snippet&publishedAfter={start_date}&publishedBefore={end_date}&videoCategoryId={category_id}&type=video&pageToken={url}&key={api_key}\"\n",
    "\n",
    "    return video_ids\n",
    "\n"
   ]
  },
  {
   "cell_type": "code",
   "execution_count": 26,
   "metadata": {},
   "outputs": [],
   "source": [
    "\n",
    "video_ids = get_video_ids(API_KEY, CATEGORY_ID, START_DATE, END_DATE)\n"
   ]
  },
  {
   "cell_type": "code",
   "execution_count": 27,
   "metadata": {},
   "outputs": [
    {
     "name": "stdout",
     "output_type": "stream",
     "text": [
      "[]\n"
     ]
    }
   ],
   "source": [
    "print(video_ids)\n",
    "\n"
   ]
  },
  {
   "cell_type": "code",
   "execution_count": null,
   "metadata": {},
   "outputs": [
    {
     "name": "stdout",
     "output_type": "stream",
     "text": [
      "{\n",
      "    \"kind\": \"youtube#videoListResponse\",\n",
      "    \"etag\": \"YIUPVpqNjppyCWOZfL-19bLb7uk\",\n",
      "    \"items\": [],\n",
      "    \"pageInfo\": {\n",
      "        \"totalResults\": 0,\n",
      "        \"resultsPerPage\": 0\n",
      "    }\n",
      "}\n"
     ]
    }
   ],
   "source": [
    "API_KEY = youtube_key  # Replace with your actual API key\n",
    "\n",
    "def main(video_ids):\n",
    "    # Set up the YouTube API client\n",
    "    api_service_name = \"youtube\"\n",
    "    api_version = \"v3\"\n",
    "\n",
    "    # Build the YouTube API client using the API key\n",
    "    youtube = googleapiclient.discovery.build(\n",
    "        api_service_name, api_version, developerKey=API_KEY)\n",
    "    \n",
    "    # Make the API request to get video details\n",
    "    request = youtube.videos().list(\n",
    "        part=\"snippet,contentDetails,statistics,status,topicDetails\",\n",
    "        id=\",\".join(video_ids)  # Join the list of IDs into a comma-separated string\n",
    "    )\n",
    "    response = request.execute()\n",
    "\n",
    "    # Pretty-print the JSON response\n",
    "    print(json.dumps(response, indent=4))\n",
    "    filename = 'video_dat.json'\n",
    "    with open(filename, 'w') as file:\n",
    "        json.dump(response, file, indent=4)\n",
    "\n",
    "if __name__ == \"__main__\":\n",
    "    main(video_ids)\n",
    "\n"
   ]
  },
  {
   "cell_type": "code",
   "execution_count": 14,
   "metadata": {},
   "outputs": [
    {
     "name": "stdout",
     "output_type": "stream",
     "text": [
      "HTTP Error: <HttpError 400 when requesting https://youtube.googleapis.com/youtube/v3/videos returned \"The request specifies an invalid filter parameter.\". Details: \"[{'message': 'The request specifies an invalid filter parameter.', 'domain': 'youtube.parameter', 'reason': 'invalidFilters', 'location': 'parameters.', 'locationType': 'other'}]\">\n"
     ]
    }
   ],
   "source": [
    "import googleapiclient.discovery\n",
    "import json\n",
    "\n",
    "API_KEY = youtube_key  # Replace with your actual API key\n",
    "\n",
    "def main(video_ids):\n",
    "    # Check if video_ids is valid\n",
    "    if not video_ids or not all(isinstance(vid, str) for vid in video_ids):\n",
    "        raise ValueError(\"Invalid or empty video_ids list\")\n",
    "\n",
    "    # Set up the YouTube API client\n",
    "    api_service_name = \"youtube\"\n",
    "    api_version = \"v3\"\n",
    "\n",
    "    youtube = googleapiclient.discovery.build(\n",
    "        api_service_name, api_version, developerKey=API_KEY\n",
    "    )\n",
    "\n",
    "    try:\n",
    "        # Make the API request to get video details\n",
    "        request = youtube.videos().list(\n",
    "            part=\"snippet,contentDetails,statistics\",\n",
    "            id=\",\".join(video_ids)\n",
    "        )\n",
    "        response = request.execute()\n",
    "\n",
    "        # Save the response to a file\n",
    "        filename = \"video_data_01.json\"\n",
    "        with open(filename, \"w\") as file:\n",
    "            json.dump(response, file, indent=4)\n",
    "\n",
    "        print(f\"Data saved to {filename}\")\n",
    "\n",
    "    except googleapiclient.errors.HttpError as e:\n",
    "        print(f\"HTTP Error: {e}\")\n",
    "    except Exception as e:\n",
    "        print(f\"An unexpected error occurred: {e}\")\n",
    "\n",
    "if __name__ == \"__main__\":\n",
    "    main(video_ids)\n"
   ]
  }
 ],
 "metadata": {
  "kernelspec": {
   "display_name": "dev",
   "language": "python",
   "name": "python3"
  },
  "language_info": {
   "codemirror_mode": {
    "name": "ipython",
    "version": 3
   },
   "file_extension": ".py",
   "mimetype": "text/x-python",
   "name": "python",
   "nbconvert_exporter": "python",
   "pygments_lexer": "ipython3",
   "version": "3.10.14"
  }
 },
 "nbformat": 4,
 "nbformat_minor": 2
}
